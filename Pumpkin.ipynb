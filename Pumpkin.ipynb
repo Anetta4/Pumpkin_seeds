{
  "nbformat": 4,
  "nbformat_minor": 0,
  "metadata": {
    "colab": {
      "provenance": [],
      "collapsed_sections": [],
      "include_colab_link": true
    },
    "kernelspec": {
      "name": "python3",
      "display_name": "Python 3"
    },
    "language_info": {
      "name": "python"
    }
  },
  "cells": [
    {
      "cell_type": "markdown",
      "metadata": {
        "id": "view-in-github",
        "colab_type": "text"
      },
      "source": [
        "<a href=\"https://colab.research.google.com/github/Anetta4/pumpkin_seeds/blob/main/Pumpkin.ipynb\" target=\"_parent\"><img src=\"https://colab.research.google.com/assets/colab-badge.svg\" alt=\"Open In Colab\"/></a>"
      ]
    },
    {
      "cell_type": "markdown",
      "source": [
        "#**About Dataset:**  \n",
        "The notebook is about the use of machine learning methods in classification of pumpkin seeds.Genetic Resources and Crop Evolution.Pumpkin seeds are rich in the  right amount of  protein, fat, carbohydrate and mineral contents. The research was carried out on two of the most important and qualitative species of pumpkin seeds:\"Urgup_Sivrisi\" and \"Cercevelik\". They are widely grown in the Urgup and Karacaoren regions of Turkey. Considering morphological features of 2500 pumpkin seeds of both varieties, I subjected all data to modeling of known methods of supervised machine learning (classification):\n",
        "\n",
        "\n",
        "*   Logistic Regression\n",
        "*   Regularization L2\n",
        "*   KNN (k-Nearest Neighbor)\n",
        "*   SVM (Support Vector Machine)\n",
        "*   Naive Bayes\n",
        "*   Decision tree\n",
        "*   Random Forest\n",
        "\n",
        "**which determined the most effective method of classifying pumpkin seed varieties.**"
      ],
      "metadata": {
        "id": "NYACkPohbewz"
      }
    },
    {
      "cell_type": "markdown",
      "source": [
        "#Importing data"
      ],
      "metadata": {
        "id": "8Bqi2KkQI8YO"
      }
    },
    {
      "cell_type": "code",
      "execution_count": 2,
      "metadata": {
        "colab": {
          "base_uri": "https://localhost:8080/"
        },
        "id": "juDx4qefQdSA",
        "outputId": "2e553201-7498-46ad-d762-0d666d72a68b"
      },
      "outputs": [
        {
          "output_type": "stream",
          "name": "stdout",
          "text": [
            "fatal: destination path 'pumpkin_seeds' already exists and is not an empty directory.\n"
          ]
        }
      ],
      "source": [
        "! git clone https://github.com/Anetta4/pumpkin_seeds.git"
      ]
    },
    {
      "cell_type": "markdown",
      "source": [
        "#Importing dependencies"
      ],
      "metadata": {
        "id": "iq_Rzt4tJbwS"
      }
    },
    {
      "cell_type": "code",
      "source": [
        "!pip install openpyxl"
      ],
      "metadata": {
        "colab": {
          "base_uri": "https://localhost:8080/"
        },
        "id": "awIqHHP5Qmst",
        "outputId": "0e528da0-c8fb-48f6-e2dd-1b7fa3cc850b"
      },
      "execution_count": 3,
      "outputs": [
        {
          "output_type": "stream",
          "name": "stdout",
          "text": [
            "Looking in indexes: https://pypi.org/simple, https://us-python.pkg.dev/colab-wheels/public/simple/\n",
            "Requirement already satisfied: openpyxl in /usr/local/lib/python3.7/dist-packages (3.0.10)\n",
            "Requirement already satisfied: et-xmlfile in /usr/local/lib/python3.7/dist-packages (from openpyxl) (1.1.0)\n"
          ]
        }
      ]
    },
    {
      "cell_type": "code",
      "source": [
        "import plotly\n",
        "import pandas as pd\n",
        "import numpy as np\n",
        "import plotly.graph_objects as go\n",
        "from plotly.offline import iplot\n",
        "import seaborn as sns\n",
        "import missingno as msno\n",
        "from pandas_profiling import ProfileReport\n",
        "from sklearn.linear_model import LinearRegression\n",
        "from sklearn.preprocessing import PolynomialFeatures"
      ],
      "metadata": {
        "id": "sizL4HcrQ5e9"
      },
      "execution_count": 4,
      "outputs": []
    },
    {
      "cell_type": "markdown",
      "source": [
        "#Reading excel"
      ],
      "metadata": {
        "id": "bLULTt4oJrMt"
      }
    },
    {
      "cell_type": "code",
      "source": [
        "data = pd.read_excel('pumpkin_seeds/Pumpkin_Seeds_Dataset.xlsx')"
      ],
      "metadata": {
        "id": "zjANlQ8HQujl"
      },
      "execution_count": 5,
      "outputs": []
    },
    {
      "cell_type": "code",
      "source": [
        "data.sample(10)"
      ],
      "metadata": {
        "colab": {
          "base_uri": "https://localhost:8080/",
          "height": 479
        },
        "id": "vn-aUYWsQ-zH",
        "outputId": "3cbe8072-2194-431b-c637-8c02706d852e"
      },
      "execution_count": 6,
      "outputs": [
        {
          "output_type": "execute_result",
          "data": {
            "text/plain": [
              "       Area  Perimeter  Major_Axis_Length  Minor_Axis_Length  Convex_Area  \\\n",
              "943   77915   1122.514           456.2841           218.4462        78732   \n",
              "705   92547   1214.375           493.4909           239.8281        93424   \n",
              "202   97902   1233.711           491.1406           254.7969        99020   \n",
              "1357  71077   1136.241           488.2891           186.0013        71792   \n",
              "1516  86589   1221.667           510.8797           216.3206        87440   \n",
              "2258  93014   1246.667           519.2926           229.1769        93928   \n",
              "993   79638   1100.285           436.6010           233.9445        80282   \n",
              "214   71614   1036.482           405.5690           226.0209        72260   \n",
              "237   68256   1033.800           413.0075           212.2104        68919   \n",
              "21    82196   1141.067           466.2324           225.8543        82991   \n",
              "\n",
              "      Equiv_Diameter  Eccentricity  Solidity  Extent  Roundness  \\\n",
              "943         314.9674        0.8780    0.9896  0.6929     0.7770   \n",
              "705         343.2703        0.8740    0.9906  0.6114     0.7886   \n",
              "202         353.0619        0.8549    0.9887  0.7756     0.8083   \n",
              "1357        300.8289        0.9246    0.9900  0.5132     0.6918   \n",
              "1516        332.0370        0.9059    0.9903  0.7396     0.7291   \n",
              "2258        344.1353        0.8973    0.9903  0.7539     0.7521   \n",
              "993         318.4309        0.8443    0.9920  0.7241     0.8266   \n",
              "214         301.9632        0.8303    0.9911  0.6897     0.8377   \n",
              "237         294.7986        0.8579    0.9904  0.7070     0.8026   \n",
              "21          323.5046        0.8748    0.9904  0.6702     0.7933   \n",
              "\n",
              "      Aspect_Ration  Compactness          Class  \n",
              "943          2.0888       0.6903     Çerçevelik  \n",
              "705          2.0577       0.6956     Çerçevelik  \n",
              "202          1.9276       0.7189     Çerçevelik  \n",
              "1357         2.6252       0.6161  Ürgüp Sivrisi  \n",
              "1516         2.3617       0.6499  Ürgüp Sivrisi  \n",
              "2258         2.2659       0.6627  Ürgüp Sivrisi  \n",
              "993          1.8663       0.7293     Çerçevelik  \n",
              "214          1.7944       0.7445     Çerçevelik  \n",
              "237          1.9462       0.7138     Çerçevelik  \n",
              "21           2.0643       0.6939     Çerçevelik  "
            ],
            "text/html": [
              "\n",
              "  <div id=\"df-1e3f73ae-77c9-4292-a391-39923210793c\">\n",
              "    <div class=\"colab-df-container\">\n",
              "      <div>\n",
              "<style scoped>\n",
              "    .dataframe tbody tr th:only-of-type {\n",
              "        vertical-align: middle;\n",
              "    }\n",
              "\n",
              "    .dataframe tbody tr th {\n",
              "        vertical-align: top;\n",
              "    }\n",
              "\n",
              "    .dataframe thead th {\n",
              "        text-align: right;\n",
              "    }\n",
              "</style>\n",
              "<table border=\"1\" class=\"dataframe\">\n",
              "  <thead>\n",
              "    <tr style=\"text-align: right;\">\n",
              "      <th></th>\n",
              "      <th>Area</th>\n",
              "      <th>Perimeter</th>\n",
              "      <th>Major_Axis_Length</th>\n",
              "      <th>Minor_Axis_Length</th>\n",
              "      <th>Convex_Area</th>\n",
              "      <th>Equiv_Diameter</th>\n",
              "      <th>Eccentricity</th>\n",
              "      <th>Solidity</th>\n",
              "      <th>Extent</th>\n",
              "      <th>Roundness</th>\n",
              "      <th>Aspect_Ration</th>\n",
              "      <th>Compactness</th>\n",
              "      <th>Class</th>\n",
              "    </tr>\n",
              "  </thead>\n",
              "  <tbody>\n",
              "    <tr>\n",
              "      <th>943</th>\n",
              "      <td>77915</td>\n",
              "      <td>1122.514</td>\n",
              "      <td>456.2841</td>\n",
              "      <td>218.4462</td>\n",
              "      <td>78732</td>\n",
              "      <td>314.9674</td>\n",
              "      <td>0.8780</td>\n",
              "      <td>0.9896</td>\n",
              "      <td>0.6929</td>\n",
              "      <td>0.7770</td>\n",
              "      <td>2.0888</td>\n",
              "      <td>0.6903</td>\n",
              "      <td>Çerçevelik</td>\n",
              "    </tr>\n",
              "    <tr>\n",
              "      <th>705</th>\n",
              "      <td>92547</td>\n",
              "      <td>1214.375</td>\n",
              "      <td>493.4909</td>\n",
              "      <td>239.8281</td>\n",
              "      <td>93424</td>\n",
              "      <td>343.2703</td>\n",
              "      <td>0.8740</td>\n",
              "      <td>0.9906</td>\n",
              "      <td>0.6114</td>\n",
              "      <td>0.7886</td>\n",
              "      <td>2.0577</td>\n",
              "      <td>0.6956</td>\n",
              "      <td>Çerçevelik</td>\n",
              "    </tr>\n",
              "    <tr>\n",
              "      <th>202</th>\n",
              "      <td>97902</td>\n",
              "      <td>1233.711</td>\n",
              "      <td>491.1406</td>\n",
              "      <td>254.7969</td>\n",
              "      <td>99020</td>\n",
              "      <td>353.0619</td>\n",
              "      <td>0.8549</td>\n",
              "      <td>0.9887</td>\n",
              "      <td>0.7756</td>\n",
              "      <td>0.8083</td>\n",
              "      <td>1.9276</td>\n",
              "      <td>0.7189</td>\n",
              "      <td>Çerçevelik</td>\n",
              "    </tr>\n",
              "    <tr>\n",
              "      <th>1357</th>\n",
              "      <td>71077</td>\n",
              "      <td>1136.241</td>\n",
              "      <td>488.2891</td>\n",
              "      <td>186.0013</td>\n",
              "      <td>71792</td>\n",
              "      <td>300.8289</td>\n",
              "      <td>0.9246</td>\n",
              "      <td>0.9900</td>\n",
              "      <td>0.5132</td>\n",
              "      <td>0.6918</td>\n",
              "      <td>2.6252</td>\n",
              "      <td>0.6161</td>\n",
              "      <td>Ürgüp Sivrisi</td>\n",
              "    </tr>\n",
              "    <tr>\n",
              "      <th>1516</th>\n",
              "      <td>86589</td>\n",
              "      <td>1221.667</td>\n",
              "      <td>510.8797</td>\n",
              "      <td>216.3206</td>\n",
              "      <td>87440</td>\n",
              "      <td>332.0370</td>\n",
              "      <td>0.9059</td>\n",
              "      <td>0.9903</td>\n",
              "      <td>0.7396</td>\n",
              "      <td>0.7291</td>\n",
              "      <td>2.3617</td>\n",
              "      <td>0.6499</td>\n",
              "      <td>Ürgüp Sivrisi</td>\n",
              "    </tr>\n",
              "    <tr>\n",
              "      <th>2258</th>\n",
              "      <td>93014</td>\n",
              "      <td>1246.667</td>\n",
              "      <td>519.2926</td>\n",
              "      <td>229.1769</td>\n",
              "      <td>93928</td>\n",
              "      <td>344.1353</td>\n",
              "      <td>0.8973</td>\n",
              "      <td>0.9903</td>\n",
              "      <td>0.7539</td>\n",
              "      <td>0.7521</td>\n",
              "      <td>2.2659</td>\n",
              "      <td>0.6627</td>\n",
              "      <td>Ürgüp Sivrisi</td>\n",
              "    </tr>\n",
              "    <tr>\n",
              "      <th>993</th>\n",
              "      <td>79638</td>\n",
              "      <td>1100.285</td>\n",
              "      <td>436.6010</td>\n",
              "      <td>233.9445</td>\n",
              "      <td>80282</td>\n",
              "      <td>318.4309</td>\n",
              "      <td>0.8443</td>\n",
              "      <td>0.9920</td>\n",
              "      <td>0.7241</td>\n",
              "      <td>0.8266</td>\n",
              "      <td>1.8663</td>\n",
              "      <td>0.7293</td>\n",
              "      <td>Çerçevelik</td>\n",
              "    </tr>\n",
              "    <tr>\n",
              "      <th>214</th>\n",
              "      <td>71614</td>\n",
              "      <td>1036.482</td>\n",
              "      <td>405.5690</td>\n",
              "      <td>226.0209</td>\n",
              "      <td>72260</td>\n",
              "      <td>301.9632</td>\n",
              "      <td>0.8303</td>\n",
              "      <td>0.9911</td>\n",
              "      <td>0.6897</td>\n",
              "      <td>0.8377</td>\n",
              "      <td>1.7944</td>\n",
              "      <td>0.7445</td>\n",
              "      <td>Çerçevelik</td>\n",
              "    </tr>\n",
              "    <tr>\n",
              "      <th>237</th>\n",
              "      <td>68256</td>\n",
              "      <td>1033.800</td>\n",
              "      <td>413.0075</td>\n",
              "      <td>212.2104</td>\n",
              "      <td>68919</td>\n",
              "      <td>294.7986</td>\n",
              "      <td>0.8579</td>\n",
              "      <td>0.9904</td>\n",
              "      <td>0.7070</td>\n",
              "      <td>0.8026</td>\n",
              "      <td>1.9462</td>\n",
              "      <td>0.7138</td>\n",
              "      <td>Çerçevelik</td>\n",
              "    </tr>\n",
              "    <tr>\n",
              "      <th>21</th>\n",
              "      <td>82196</td>\n",
              "      <td>1141.067</td>\n",
              "      <td>466.2324</td>\n",
              "      <td>225.8543</td>\n",
              "      <td>82991</td>\n",
              "      <td>323.5046</td>\n",
              "      <td>0.8748</td>\n",
              "      <td>0.9904</td>\n",
              "      <td>0.6702</td>\n",
              "      <td>0.7933</td>\n",
              "      <td>2.0643</td>\n",
              "      <td>0.6939</td>\n",
              "      <td>Çerçevelik</td>\n",
              "    </tr>\n",
              "  </tbody>\n",
              "</table>\n",
              "</div>\n",
              "      <button class=\"colab-df-convert\" onclick=\"convertToInteractive('df-1e3f73ae-77c9-4292-a391-39923210793c')\"\n",
              "              title=\"Convert this dataframe to an interactive table.\"\n",
              "              style=\"display:none;\">\n",
              "        \n",
              "  <svg xmlns=\"http://www.w3.org/2000/svg\" height=\"24px\"viewBox=\"0 0 24 24\"\n",
              "       width=\"24px\">\n",
              "    <path d=\"M0 0h24v24H0V0z\" fill=\"none\"/>\n",
              "    <path d=\"M18.56 5.44l.94 2.06.94-2.06 2.06-.94-2.06-.94-.94-2.06-.94 2.06-2.06.94zm-11 1L8.5 8.5l.94-2.06 2.06-.94-2.06-.94L8.5 2.5l-.94 2.06-2.06.94zm10 10l.94 2.06.94-2.06 2.06-.94-2.06-.94-.94-2.06-.94 2.06-2.06.94z\"/><path d=\"M17.41 7.96l-1.37-1.37c-.4-.4-.92-.59-1.43-.59-.52 0-1.04.2-1.43.59L10.3 9.45l-7.72 7.72c-.78.78-.78 2.05 0 2.83L4 21.41c.39.39.9.59 1.41.59.51 0 1.02-.2 1.41-.59l7.78-7.78 2.81-2.81c.8-.78.8-2.07 0-2.86zM5.41 20L4 18.59l7.72-7.72 1.47 1.35L5.41 20z\"/>\n",
              "  </svg>\n",
              "      </button>\n",
              "      \n",
              "  <style>\n",
              "    .colab-df-container {\n",
              "      display:flex;\n",
              "      flex-wrap:wrap;\n",
              "      gap: 12px;\n",
              "    }\n",
              "\n",
              "    .colab-df-convert {\n",
              "      background-color: #E8F0FE;\n",
              "      border: none;\n",
              "      border-radius: 50%;\n",
              "      cursor: pointer;\n",
              "      display: none;\n",
              "      fill: #1967D2;\n",
              "      height: 32px;\n",
              "      padding: 0 0 0 0;\n",
              "      width: 32px;\n",
              "    }\n",
              "\n",
              "    .colab-df-convert:hover {\n",
              "      background-color: #E2EBFA;\n",
              "      box-shadow: 0px 1px 2px rgba(60, 64, 67, 0.3), 0px 1px 3px 1px rgba(60, 64, 67, 0.15);\n",
              "      fill: #174EA6;\n",
              "    }\n",
              "\n",
              "    [theme=dark] .colab-df-convert {\n",
              "      background-color: #3B4455;\n",
              "      fill: #D2E3FC;\n",
              "    }\n",
              "\n",
              "    [theme=dark] .colab-df-convert:hover {\n",
              "      background-color: #434B5C;\n",
              "      box-shadow: 0px 1px 3px 1px rgba(0, 0, 0, 0.15);\n",
              "      filter: drop-shadow(0px 1px 2px rgba(0, 0, 0, 0.3));\n",
              "      fill: #FFFFFF;\n",
              "    }\n",
              "  </style>\n",
              "\n",
              "      <script>\n",
              "        const buttonEl =\n",
              "          document.querySelector('#df-1e3f73ae-77c9-4292-a391-39923210793c button.colab-df-convert');\n",
              "        buttonEl.style.display =\n",
              "          google.colab.kernel.accessAllowed ? 'block' : 'none';\n",
              "\n",
              "        async function convertToInteractive(key) {\n",
              "          const element = document.querySelector('#df-1e3f73ae-77c9-4292-a391-39923210793c');\n",
              "          const dataTable =\n",
              "            await google.colab.kernel.invokeFunction('convertToInteractive',\n",
              "                                                     [key], {});\n",
              "          if (!dataTable) return;\n",
              "\n",
              "          const docLinkHtml = 'Like what you see? Visit the ' +\n",
              "            '<a target=\"_blank\" href=https://colab.research.google.com/notebooks/data_table.ipynb>data table notebook</a>'\n",
              "            + ' to learn more about interactive tables.';\n",
              "          element.innerHTML = '';\n",
              "          dataTable['output_type'] = 'display_data';\n",
              "          await google.colab.output.renderOutput(dataTable, element);\n",
              "          const docLink = document.createElement('div');\n",
              "          docLink.innerHTML = docLinkHtml;\n",
              "          element.appendChild(docLink);\n",
              "        }\n",
              "      </script>\n",
              "    </div>\n",
              "  </div>\n",
              "  "
            ]
          },
          "metadata": {},
          "execution_count": 6
        }
      ]
    },
    {
      "cell_type": "code",
      "source": [
        "data.shape"
      ],
      "metadata": {
        "colab": {
          "base_uri": "https://localhost:8080/"
        },
        "id": "eYZsoZ4XQA49",
        "outputId": "238610f5-7934-4ac0-d6d4-69b37a42d8fd"
      },
      "execution_count": 7,
      "outputs": [
        {
          "output_type": "execute_result",
          "data": {
            "text/plain": [
              "(2500, 13)"
            ]
          },
          "metadata": {},
          "execution_count": 7
        }
      ]
    },
    {
      "cell_type": "code",
      "source": [
        "data.info()"
      ],
      "metadata": {
        "colab": {
          "base_uri": "https://localhost:8080/"
        },
        "id": "azukERvHIXMb",
        "outputId": "6968e8e9-03c4-444e-8ead-bb9ba29493a1"
      },
      "execution_count": 8,
      "outputs": [
        {
          "output_type": "stream",
          "name": "stdout",
          "text": [
            "<class 'pandas.core.frame.DataFrame'>\n",
            "RangeIndex: 2500 entries, 0 to 2499\n",
            "Data columns (total 13 columns):\n",
            " #   Column             Non-Null Count  Dtype  \n",
            "---  ------             --------------  -----  \n",
            " 0   Area               2500 non-null   int64  \n",
            " 1   Perimeter          2500 non-null   float64\n",
            " 2   Major_Axis_Length  2500 non-null   float64\n",
            " 3   Minor_Axis_Length  2500 non-null   float64\n",
            " 4   Convex_Area        2500 non-null   int64  \n",
            " 5   Equiv_Diameter     2500 non-null   float64\n",
            " 6   Eccentricity       2500 non-null   float64\n",
            " 7   Solidity           2500 non-null   float64\n",
            " 8   Extent             2500 non-null   float64\n",
            " 9   Roundness          2500 non-null   float64\n",
            " 10  Aspect_Ration      2500 non-null   float64\n",
            " 11  Compactness        2500 non-null   float64\n",
            " 12  Class              2500 non-null   object \n",
            "dtypes: float64(10), int64(2), object(1)\n",
            "memory usage: 254.0+ KB\n"
          ]
        }
      ]
    },
    {
      "cell_type": "markdown",
      "source": [
        "The column names of the dataset are pretty self-explanatory."
      ],
      "metadata": {
        "id": "GADMO31SxjXF"
      }
    },
    {
      "cell_type": "code",
      "source": [
        "data.describe(include=['object'])"
      ],
      "metadata": {
        "colab": {
          "base_uri": "https://localhost:8080/",
          "height": 175
        },
        "id": "GAZ8_YECxxoY",
        "outputId": "328ef1db-2ca4-477c-e3a0-56372f2a3294"
      },
      "execution_count": 9,
      "outputs": [
        {
          "output_type": "execute_result",
          "data": {
            "text/plain": [
              "             Class\n",
              "count         2500\n",
              "unique           2\n",
              "top     Çerçevelik\n",
              "freq          1300"
            ],
            "text/html": [
              "\n",
              "  <div id=\"df-a357bd5a-427d-4f6e-ac74-d279fa1a2086\">\n",
              "    <div class=\"colab-df-container\">\n",
              "      <div>\n",
              "<style scoped>\n",
              "    .dataframe tbody tr th:only-of-type {\n",
              "        vertical-align: middle;\n",
              "    }\n",
              "\n",
              "    .dataframe tbody tr th {\n",
              "        vertical-align: top;\n",
              "    }\n",
              "\n",
              "    .dataframe thead th {\n",
              "        text-align: right;\n",
              "    }\n",
              "</style>\n",
              "<table border=\"1\" class=\"dataframe\">\n",
              "  <thead>\n",
              "    <tr style=\"text-align: right;\">\n",
              "      <th></th>\n",
              "      <th>Class</th>\n",
              "    </tr>\n",
              "  </thead>\n",
              "  <tbody>\n",
              "    <tr>\n",
              "      <th>count</th>\n",
              "      <td>2500</td>\n",
              "    </tr>\n",
              "    <tr>\n",
              "      <th>unique</th>\n",
              "      <td>2</td>\n",
              "    </tr>\n",
              "    <tr>\n",
              "      <th>top</th>\n",
              "      <td>Çerçevelik</td>\n",
              "    </tr>\n",
              "    <tr>\n",
              "      <th>freq</th>\n",
              "      <td>1300</td>\n",
              "    </tr>\n",
              "  </tbody>\n",
              "</table>\n",
              "</div>\n",
              "      <button class=\"colab-df-convert\" onclick=\"convertToInteractive('df-a357bd5a-427d-4f6e-ac74-d279fa1a2086')\"\n",
              "              title=\"Convert this dataframe to an interactive table.\"\n",
              "              style=\"display:none;\">\n",
              "        \n",
              "  <svg xmlns=\"http://www.w3.org/2000/svg\" height=\"24px\"viewBox=\"0 0 24 24\"\n",
              "       width=\"24px\">\n",
              "    <path d=\"M0 0h24v24H0V0z\" fill=\"none\"/>\n",
              "    <path d=\"M18.56 5.44l.94 2.06.94-2.06 2.06-.94-2.06-.94-.94-2.06-.94 2.06-2.06.94zm-11 1L8.5 8.5l.94-2.06 2.06-.94-2.06-.94L8.5 2.5l-.94 2.06-2.06.94zm10 10l.94 2.06.94-2.06 2.06-.94-2.06-.94-.94-2.06-.94 2.06-2.06.94z\"/><path d=\"M17.41 7.96l-1.37-1.37c-.4-.4-.92-.59-1.43-.59-.52 0-1.04.2-1.43.59L10.3 9.45l-7.72 7.72c-.78.78-.78 2.05 0 2.83L4 21.41c.39.39.9.59 1.41.59.51 0 1.02-.2 1.41-.59l7.78-7.78 2.81-2.81c.8-.78.8-2.07 0-2.86zM5.41 20L4 18.59l7.72-7.72 1.47 1.35L5.41 20z\"/>\n",
              "  </svg>\n",
              "      </button>\n",
              "      \n",
              "  <style>\n",
              "    .colab-df-container {\n",
              "      display:flex;\n",
              "      flex-wrap:wrap;\n",
              "      gap: 12px;\n",
              "    }\n",
              "\n",
              "    .colab-df-convert {\n",
              "      background-color: #E8F0FE;\n",
              "      border: none;\n",
              "      border-radius: 50%;\n",
              "      cursor: pointer;\n",
              "      display: none;\n",
              "      fill: #1967D2;\n",
              "      height: 32px;\n",
              "      padding: 0 0 0 0;\n",
              "      width: 32px;\n",
              "    }\n",
              "\n",
              "    .colab-df-convert:hover {\n",
              "      background-color: #E2EBFA;\n",
              "      box-shadow: 0px 1px 2px rgba(60, 64, 67, 0.3), 0px 1px 3px 1px rgba(60, 64, 67, 0.15);\n",
              "      fill: #174EA6;\n",
              "    }\n",
              "\n",
              "    [theme=dark] .colab-df-convert {\n",
              "      background-color: #3B4455;\n",
              "      fill: #D2E3FC;\n",
              "    }\n",
              "\n",
              "    [theme=dark] .colab-df-convert:hover {\n",
              "      background-color: #434B5C;\n",
              "      box-shadow: 0px 1px 3px 1px rgba(0, 0, 0, 0.15);\n",
              "      filter: drop-shadow(0px 1px 2px rgba(0, 0, 0, 0.3));\n",
              "      fill: #FFFFFF;\n",
              "    }\n",
              "  </style>\n",
              "\n",
              "      <script>\n",
              "        const buttonEl =\n",
              "          document.querySelector('#df-a357bd5a-427d-4f6e-ac74-d279fa1a2086 button.colab-df-convert');\n",
              "        buttonEl.style.display =\n",
              "          google.colab.kernel.accessAllowed ? 'block' : 'none';\n",
              "\n",
              "        async function convertToInteractive(key) {\n",
              "          const element = document.querySelector('#df-a357bd5a-427d-4f6e-ac74-d279fa1a2086');\n",
              "          const dataTable =\n",
              "            await google.colab.kernel.invokeFunction('convertToInteractive',\n",
              "                                                     [key], {});\n",
              "          if (!dataTable) return;\n",
              "\n",
              "          const docLinkHtml = 'Like what you see? Visit the ' +\n",
              "            '<a target=\"_blank\" href=https://colab.research.google.com/notebooks/data_table.ipynb>data table notebook</a>'\n",
              "            + ' to learn more about interactive tables.';\n",
              "          element.innerHTML = '';\n",
              "          dataTable['output_type'] = 'display_data';\n",
              "          await google.colab.output.renderOutput(dataTable, element);\n",
              "          const docLink = document.createElement('div');\n",
              "          docLink.innerHTML = docLinkHtml;\n",
              "          element.appendChild(docLink);\n",
              "        }\n",
              "      </script>\n",
              "    </div>\n",
              "  </div>\n",
              "  "
            ]
          },
          "metadata": {},
          "execution_count": 9
        }
      ]
    },
    {
      "cell_type": "code",
      "source": [
        "data['Class'].value_counts()"
      ],
      "metadata": {
        "colab": {
          "base_uri": "https://localhost:8080/"
        },
        "id": "qN2kx2wQYSEw",
        "outputId": "dab8b324-7b14-409b-fb86-aa442c99418f"
      },
      "execution_count": 10,
      "outputs": [
        {
          "output_type": "execute_result",
          "data": {
            "text/plain": [
              "Çerçevelik       1300\n",
              "Ürgüp Sivrisi    1200\n",
              "Name: Class, dtype: int64"
            ]
          },
          "metadata": {},
          "execution_count": 10
        }
      ]
    },
    {
      "cell_type": "code",
      "source": [
        "%matplotlib inline\n",
        "import matplotlib.pyplot as plt"
      ],
      "metadata": {
        "id": "dy8XnFrTCGGo"
      },
      "execution_count": 11,
      "outputs": []
    },
    {
      "cell_type": "code",
      "source": [
        "data[\"Class\"].value_counts().plot(kind=\"pie\",autopct=\"%.2f%%\")\n",
        "plt.show()"
      ],
      "metadata": {
        "colab": {
          "base_uri": "https://localhost:8080/",
          "height": 248
        },
        "id": "FzA5RZD9I3W1",
        "outputId": "6703d6da-3a81-4a1a-9445-7563cdeea4f8"
      },
      "execution_count": 12,
      "outputs": [
        {
          "output_type": "display_data",
          "data": {
            "text/plain": [
              "<Figure size 432x288 with 1 Axes>"
            ],
            "image/png": "[encoded data removed]"
          },
          "metadata": {}
        }
      ]
    },
    {
      "cell_type": "markdown",
      "source": [
        "As we can see there are 2 classes and both of classes have almost equal values."
      ],
      "metadata": {
        "id": "dx6976MlJY9r"
      }
    },
    {
      "cell_type": "markdown",
      "source": [
        "# Exploratory Data Analysis"
      ],
      "metadata": {
        "id": "R9qnJAFeWb4x"
      }
    },
    {
      "cell_type": "code",
      "source": [
        "data.describe()"
      ],
      "metadata": {
        "colab": {
          "base_uri": "https://localhost:8080/",
          "height": 364
        },
        "id": "nQsER0UVXRGz",
        "outputId": "a5026ffa-eb81-4200-d4de-18878d377e1e"
      },
      "execution_count": 13,
      "outputs": [
        {
          "output_type": "execute_result",
          "data": {
            "text/plain": [
              "                Area    Perimeter  Major_Axis_Length  Minor_Axis_Length  \\\n",
              "count    2500.000000  2500.000000        2500.000000        2500.000000   \n",
              "mean    80658.220800  1130.279015         456.601840         225.794921   \n",
              "std     13664.510228   109.256418          56.235704          23.297245   \n",
              "min     47939.000000   868.485000         320.844600         152.171800   \n",
              "25%     70765.000000  1048.829750         414.957850         211.245925   \n",
              "50%     79076.000000  1123.672000         449.496600         224.703100   \n",
              "75%     89757.500000  1203.340500         492.737650         240.672875   \n",
              "max    136574.000000  1559.450000         661.911300         305.818000   \n",
              "\n",
              "         Convex_Area  Equiv_Diameter  Eccentricity     Solidity       Extent  \\\n",
              "count    2500.000000     2500.000000   2500.000000  2500.000000  2500.000000   \n",
              "mean    81508.084400      319.334230      0.860879     0.989492     0.693205   \n",
              "std     13764.092788       26.891920      0.045167     0.003494     0.060914   \n",
              "min     48366.000000      247.058400      0.492100     0.918600     0.468000   \n",
              "25%     71512.000000      300.167975      0.831700     0.988300     0.658900   \n",
              "50%     79872.000000      317.305350      0.863700     0.990300     0.713050   \n",
              "75%     90797.750000      338.057375      0.897025     0.991500     0.740225   \n",
              "max    138384.000000      417.002900      0.948100     0.994400     0.829600   \n",
              "\n",
              "         Roundness  Aspect_Ration  Compactness  \n",
              "count  2500.000000    2500.000000  2500.000000  \n",
              "mean      0.791533       2.041702     0.704121  \n",
              "std       0.055924       0.315997     0.053067  \n",
              "min       0.554600       1.148700     0.560800  \n",
              "25%       0.751900       1.801050     0.663475  \n",
              "50%       0.797750       1.984200     0.707700  \n",
              "75%       0.834325       2.262075     0.743500  \n",
              "max       0.939600       3.144400     0.904900  "
            ],
            "text/html": [
              "\n",
              "  <div id=\"df-c9bfbc0d-daa9-4b4e-b955-9a2d08f02bba\">\n",
              "    <div class=\"colab-df-container\">\n",
              "      <div>\n",
              "<style scoped>\n",
              "    .dataframe tbody tr th:only-of-type {\n",
              "        vertical-align: middle;\n",
              "    }\n",
              "\n",
              "    .dataframe tbody tr th {\n",
              "        vertical-align: top;\n",
              "    }\n",
              "\n",
              "    .dataframe thead th {\n",
              "        text-align: right;\n",
              "    }\n",
              "</style>\n",
              "<table border=\"1\" class=\"dataframe\">\n",
              "  <thead>\n",
              "    <tr style=\"text-align: right;\">\n",
              "      <th></th>\n",
              "      <th>Area</th>\n",
              "      <th>Perimeter</th>\n",
              "      <th>Major_Axis_Length</th>\n",
              "      <th>Minor_Axis_Length</th>\n",
              "      <th>Convex_Area</th>\n",
              "      <th>Equiv_Diameter</th>\n",
              "      <th>Eccentricity</th>\n",
              "      <th>Solidity</th>\n",
              "      <th>Extent</th>\n",
              "      <th>Roundness</th>\n",
              "      <th>Aspect_Ration</th>\n",
              "      <th>Compactness</th>\n",
              "    </tr>\n",
              "  </thead>\n",
              "  <tbody>\n",
              "    <tr>\n",
              "      <th>count</th>\n",
              "      <td>2500.000000</td>\n",
              "      <td>2500.000000</td>\n",
              "      <td>2500.000000</td>\n",
              "      <td>2500.000000</td>\n",
              "      <td>2500.000000</td>\n",
              "      <td>2500.000000</td>\n",
              "      <td>2500.000000</td>\n",
              "      <td>2500.000000</td>\n",
              "      <td>2500.000000</td>\n",
              "      <td>2500.000000</td>\n",
              "      <td>2500.000000</td>\n",
              "      <td>2500.000000</td>\n",
              "    </tr>\n",
              "    <tr>\n",
              "      <th>mean</th>\n",
              "      <td>80658.220800</td>\n",
              "      <td>1130.279015</td>\n",
              "      <td>456.601840</td>\n",
              "      <td>225.794921</td>\n",
              "      <td>81508.084400</td>\n",
              "      <td>319.334230</td>\n",
              "      <td>0.860879</td>\n",
              "      <td>0.989492</td>\n",
              "      <td>0.693205</td>\n",
              "      <td>0.791533</td>\n",
              "      <td>2.041702</td>\n",
              "      <td>0.704121</td>\n",
              "    </tr>\n",
              "    <tr>\n",
              "      <th>std</th>\n",
              "      <td>13664.510228</td>\n",
              "      <td>109.256418</td>\n",
              "      <td>56.235704</td>\n",
              "      <td>23.297245</td>\n",
              "      <td>13764.092788</td>\n",
              "      <td>26.891920</td>\n",
              "      <td>0.045167</td>\n",
              "      <td>0.003494</td>\n",
              "      <td>0.060914</td>\n",
              "      <td>0.055924</td>\n",
              "      <td>0.315997</td>\n",
              "      <td>0.053067</td>\n",
              "    </tr>\n",
              "    <tr>\n",
              "      <th>min</th>\n",
              "      <td>47939.000000</td>\n",
              "      <td>868.485000</td>\n",
              "      <td>320.844600</td>\n",
              "      <td>152.171800</td>\n",
              "      <td>48366.000000</td>\n",
              "      <td>247.058400</td>\n",
              "      <td>0.492100</td>\n",
              "      <td>0.918600</td>\n",
              "      <td>0.468000</td>\n",
              "      <td>0.554600</td>\n",
              "      <td>1.148700</td>\n",
              "      <td>0.560800</td>\n",
              "    </tr>\n",
              "    <tr>\n",
              "      <th>25%</th>\n",
              "      <td>70765.000000</td>\n",
              "      <td>1048.829750</td>\n",
              "      <td>414.957850</td>\n",
              "      <td>211.245925</td>\n",
              "      <td>71512.000000</td>\n",
              "      <td>300.167975</td>\n",
              "      <td>0.831700</td>\n",
              "      <td>0.988300</td>\n",
              "      <td>0.658900</td>\n",
              "      <td>0.751900</td>\n",
              "      <td>1.801050</td>\n",
              "      <td>0.663475</td>\n",
              "    </tr>\n",
              "    <tr>\n",
              "      <th>50%</th>\n",
              "      <td>79076.000000</td>\n",
              "      <td>1123.672000</td>\n",
              "      <td>449.496600</td>\n",
              "      <td>224.703100</td>\n",
              "      <td>79872.000000</td>\n",
              "      <td>317.305350</td>\n",
              "      <td>0.863700</td>\n",
              "      <td>0.990300</td>\n",
              "      <td>0.713050</td>\n",
              "      <td>0.797750</td>\n",
              "      <td>1.984200</td>\n",
              "      <td>0.707700</td>\n",
              "    </tr>\n",
              "    <tr>\n",
              "      <th>75%</th>\n",
              "      <td>89757.500000</td>\n",
              "      <td>1203.340500</td>\n",
              "      <td>492.737650</td>\n",
              "      <td>240.672875</td>\n",
              "      <td>90797.750000</td>\n",
              "      <td>338.057375</td>\n",
              "      <td>0.897025</td>\n",
              "      <td>0.991500</td>\n",
              "      <td>0.740225</td>\n",
              "      <td>0.834325</td>\n",
              "      <td>2.262075</td>\n",
              "      <td>0.743500</td>\n",
              "    </tr>\n",
              "    <tr>\n",
              "      <th>max</th>\n",
              "      <td>136574.000000</td>\n",
              "      <td>1559.450000</td>\n",
              "      <td>661.911300</td>\n",
              "      <td>305.818000</td>\n",
              "      <td>138384.000000</td>\n",
              "      <td>417.002900</td>\n",
              "      <td>0.948100</td>\n",
              "      <td>0.994400</td>\n",
              "      <td>0.829600</td>\n",
              "      <td>0.939600</td>\n",
              "      <td>3.144400</td>\n",
              "      <td>0.904900</td>\n",
              "    </tr>\n",
              "  </tbody>\n",
              "</table>\n",
              "</div>\n",
              "      <button class=\"colab-df-convert\" onclick=\"convertToInteractive('df-c9bfbc0d-daa9-4b4e-b955-9a2d08f02bba')\"\n",
              "              title=\"Convert this dataframe to an interactive table.\"\n",
              "              style=\"display:none;\">\n",
              "        \n",
              "  <svg xmlns=\"http://www.w3.org/2000/svg\" height=\"24px\"viewBox=\"0 0 24 24\"\n",
              "       width=\"24px\">\n",
              "    <path d=\"M0 0h24v24H0V0z\" fill=\"none\"/>\n",
              "    <path d=\"M18.56 5.44l.94 2.06.94-2.06 2.06-.94-2.06-.94-.94-2.06-.94 2.06-2.06.94zm-11 1L8.5 8.5l.94-2.06 2.06-.94-2.06-.94L8.5 2.5l-.94 2.06-2.06.94zm10 10l.94 2.06.94-2.06 2.06-.94-2.06-.94-.94-2.06-.94 2.06-2.06.94z\"/><path d=\"M17.41 7.96l-1.37-1.37c-.4-.4-.92-.59-1.43-.59-.52 0-1.04.2-1.43.59L10.3 9.45l-7.72 7.72c-.78.78-.78 2.05 0 2.83L4 21.41c.39.39.9.59 1.41.59.51 0 1.02-.2 1.41-.59l7.78-7.78 2.81-2.81c.8-.78.8-2.07 0-2.86zM5.41 20L4 18.59l7.72-7.72 1.47 1.35L5.41 20z\"/>\n",
              "  </svg>\n",
              "      </button>\n",
              "      \n",
              "  <style>\n",
              "    .colab-df-container {\n",
              "      display:flex;\n",
              "      flex-wrap:wrap;\n",
              "      gap: 12px;\n",
              "    }\n",
              "\n",
              "    .colab-df-convert {\n",
              "      background-color: #E8F0FE;\n",
              "      border: none;\n",
              "      border-radius: 50%;\n",
              "      cursor: pointer;\n",
              "      display: none;\n",
              "      fill: #1967D2;\n",
              "      height: 32px;\n",
              "      padding: 0 0 0 0;\n",
              "      width: 32px;\n",
              "    }\n",
              "\n",
              "    .colab-df-convert:hover {\n",
              "      background-color: #E2EBFA;\n",
              "      box-shadow: 0px 1px 2px rgba(60, 64, 67, 0.3), 0px 1px 3px 1px rgba(60, 64, 67, 0.15);\n",
              "      fill: #174EA6;\n",
              "    }\n",
              "\n",
              "    [theme=dark] .colab-df-convert {\n",
              "      background-color: #3B4455;\n",
              "      fill: #D2E3FC;\n",
              "    }\n",
              "\n",
              "    [theme=dark] .colab-df-convert:hover {\n",
              "      background-color: #434B5C;\n",
              "      box-shadow: 0px 1px 3px 1px rgba(0, 0, 0, 0.15);\n",
              "      filter: drop-shadow(0px 1px 2px rgba(0, 0, 0, 0.3));\n",
              "      fill: #FFFFFF;\n",
              "    }\n",
              "  </style>\n",
              "\n",
              "      <script>\n",
              "        const buttonEl =\n",
              "          document.querySelector('#df-c9bfbc0d-daa9-4b4e-b955-9a2d08f02bba button.colab-df-convert');\n",
              "        buttonEl.style.display =\n",
              "          google.colab.kernel.accessAllowed ? 'block' : 'none';\n",
              "\n",
              "        async function convertToInteractive(key) {\n",
              "          const element = document.querySelector('#df-c9bfbc0d-daa9-4b4e-b955-9a2d08f02bba');\n",
              "          const dataTable =\n",
              "            await google.colab.kernel.invokeFunction('convertToInteractive',\n",
              "                                                     [key], {});\n",
              "          if (!dataTable) return;\n",
              "\n",
              "          const docLinkHtml = 'Like what you see? Visit the ' +\n",
              "            '<a target=\"_blank\" href=https://colab.research.google.com/notebooks/data_table.ipynb>data table notebook</a>'\n",
              "            + ' to learn more about interactive tables.';\n",
              "          element.innerHTML = '';\n",
              "          dataTable['output_type'] = 'display_data';\n",
              "          await google.colab.output.renderOutput(dataTable, element);\n",
              "          const docLink = document.createElement('div');\n",
              "          docLink.innerHTML = docLinkHtml;\n",
              "          element.appendChild(docLink);\n",
              "        }\n",
              "      </script>\n",
              "    </div>\n",
              "  </div>\n",
              "  "
            ]
          },
          "metadata": {},
          "execution_count": 13
        }
      ]
    },
    {
      "cell_type": "markdown",
      "source": [
        "#Missing values \n"
      ],
      "metadata": {
        "id": "T6UaUaDsnUQ9"
      }
    },
    {
      "cell_type": "code",
      "source": [
        "msno.matrix(data, color=(0.5, 0.5, 0.25))"
      ],
      "metadata": {
        "id": "S7Xqe5fIx93y",
        "colab": {
          "base_uri": "https://localhost:8080/",
          "height": 518
        },
        "outputId": "1a8c23cc-350c-4c71-80ae-e389b48be394"
      },
      "execution_count": 14,
      "outputs": [
        {
          "output_type": "execute_result",
          "data": {
            "text/plain": [
              "<matplotlib.axes._subplots.AxesSubplot at 0x7fb543a3e150>"
            ]
          },
          "metadata": {},
          "execution_count": 14
        },
        {
          "output_type": "display_data",
          "data": {
            "text/plain": [
              "<Figure size 1800x720 with 2 Axes>"
            ],
            "image/png": "[encoded data removed]"
          },
          "metadata": {
            "needs_background": "light"
          }
        }
      ]
    },
    {
      "cell_type": "markdown",
      "source": [
        "The dataset doesn't have any missing values."
      ],
      "metadata": {
        "id": "f8j9fI7UOG9Q"
      }
    },
    {
      "cell_type": "markdown",
      "source": [
        "#Data preprocessing for find  outliers in dataset\n",
        "\n",
        "\n",
        "Are there any outliers in the dataset?"
      ],
      "metadata": {
        "id": "xZX88t3leVB7"
      }
    },
    {
      "cell_type": "code",
      "source": [
        "sns.boxplot(data=data)"
      ],
      "metadata": {
        "colab": {
          "base_uri": "https://localhost:8080/",
          "height": 284
        },
        "id": "G0VG6I8CJ6lA",
        "outputId": "b6c529be-52ca-4de8-e2c9-c7a07856ce54"
      },
      "execution_count": 15,
      "outputs": [
        {
          "output_type": "execute_result",
          "data": {
            "text/plain": [
              "<matplotlib.axes._subplots.AxesSubplot at 0x7fb540c6f5d0>"
            ]
          },
          "metadata": {},
          "execution_count": 15
        },
        {
          "output_type": "display_data",
          "data": {
            "text/plain": [
              "<Figure size 432x288 with 1 Axes>"
            ],
            "image/png": "[encoded data removed]"
          },
          "metadata": {
            "needs_background": "light"
          }
        }
      ]
    },
    {
      "cell_type": "markdown",
      "source": [
        "In order to make the chart above readable I need to scale it, I use StandardScaler"
      ],
      "metadata": {
        "id": "pVb_w0ZZQokS"
      }
    },
    {
      "cell_type": "code",
      "source": [
        "from sklearn.preprocessing import StandardScaler\n",
        "\n",
        "sc = StandardScaler()       \n",
        "sc = sc.fit(data.iloc[:,:-1])\n",
        "data_sc=sc.transform(data.iloc[:,:-1])\n",
        "\n",
        "plt.figure(figsize = (16,6))\n",
        "g = sns.boxplot(data=data_sc)\n",
        "g.set_xticklabels(data.columns)\n",
        "plt.xticks(rotation=90)"
      ],
      "metadata": {
        "colab": {
          "base_uri": "https://localhost:8080/",
          "height": 494
        },
        "id": "9I_LO2v6ckg0",
        "outputId": "888c70a3-196e-4ee3-ffcd-1dd20738a985"
      },
      "execution_count": 16,
      "outputs": [
        {
          "output_type": "execute_result",
          "data": {
            "text/plain": [
              "(array([ 0,  1,  2,  3,  4,  5,  6,  7,  8,  9, 10, 11]),\n",
              " <a list of 12 Text major ticklabel objects>)"
            ]
          },
          "metadata": {},
          "execution_count": 16
        },
        {
          "output_type": "display_data",
          "data": {
            "text/plain": [
              "<Figure size 1152x432 with 1 Axes>"
            ],
            "image/png": "[encoded data removed]"
          },
          "metadata": {
            "needs_background": "light"
          }
        }
      ]
    },
    {
      "cell_type": "markdown",
      "source": [
        "#Remove outliers from dataset"
      ],
      "metadata": {
        "id": "xstBj8Y-fs3u"
      }
    },
    {
      "cell_type": "code",
      "source": [
        "import scipy.stats as stats"
      ],
      "metadata": {
        "id": "_UNSzmT9NPAf"
      },
      "execution_count": 17,
      "outputs": []
    },
    {
      "cell_type": "code",
      "source": [
        "np.random.seed(10)"
      ],
      "metadata": {
        "id": "an-absWNJGBN"
      },
      "execution_count": 18,
      "outputs": []
    },
    {
      "cell_type": "code",
      "source": [
        "\n",
        "Q1 = data.iloc[:,:-1].quantile(q=.25)\n",
        "Q3 = data.iloc[:,:-1].quantile(q=.75)\n",
        "IQR = data.iloc[:,:-1].apply(stats.iqr)\n",
        "\n",
        "data = data[~((data.iloc[:,:-1] < (Q1-1.5*IQR)) | (data.iloc[:,:-1] > (Q3+1.5*IQR))).any(axis=1)]\n"
      ],
      "metadata": {
        "id": "6lF6lwzfJpYQ"
      },
      "execution_count": 19,
      "outputs": []
    },
    {
      "cell_type": "code",
      "source": [
        "sc = StandardScaler()       \n",
        "sc = sc.fit(data.iloc[:,:-1])\n",
        "data_sc=sc.transform(data.iloc[:,:-1])\n",
        "\n",
        "plt.figure(figsize = (16,6))\n",
        "g = sns.boxplot(data=data_sc)\n",
        "g.set_xticklabels(data.columns)\n",
        "plt.xticks(rotation=90)"
      ],
      "metadata": {
        "colab": {
          "base_uri": "https://localhost:8080/",
          "height": 494
        },
        "id": "AZ6gUFuMLE00",
        "outputId": "ddac1ba9-0c6a-4928-f7c7-6a4a51d9b187"
      },
      "execution_count": 20,
      "outputs": [
        {
          "output_type": "execute_result",
          "data": {
            "text/plain": [
              "(array([ 0,  1,  2,  3,  4,  5,  6,  7,  8,  9, 10, 11]),\n",
              " <a list of 12 Text major ticklabel objects>)"
            ]
          },
          "metadata": {},
          "execution_count": 20
        },
        {
          "output_type": "display_data",
          "data": {
            "text/plain": [
              "<Figure size 1152x432 with 1 Axes>"
            ],
            "image/png": "[encoded data removed]"
          },
          "metadata": {
            "needs_background": "light"
          }
        }
      ]
    },
    {
      "cell_type": "markdown",
      "source": [
        "**The datasets total is:**"
      ],
      "metadata": {
        "id": "cjatewI51Ndf"
      }
    },
    {
      "cell_type": "code",
      "source": [
        "data.shape"
      ],
      "metadata": {
        "colab": {
          "base_uri": "https://localhost:8080/"
        },
        "id": "aQZzZVrX1yaF",
        "outputId": "9665ef6c-a97d-4030-9321-87c4e808c50a"
      },
      "execution_count": 21,
      "outputs": [
        {
          "output_type": "execute_result",
          "data": {
            "text/plain": [
              "(2285, 13)"
            ]
          },
          "metadata": {},
          "execution_count": 21
        }
      ]
    },
    {
      "cell_type": "code",
      "source": [
        "data[\"Class\"].value_counts()"
      ],
      "metadata": {
        "colab": {
          "base_uri": "https://localhost:8080/"
        },
        "id": "023Q2rT2Obsx",
        "outputId": "387e950c-9c04-43d3-9254-82325c94ba70"
      },
      "execution_count": 22,
      "outputs": [
        {
          "output_type": "execute_result",
          "data": {
            "text/plain": [
              "Çerçevelik       1209\n",
              "Ürgüp Sivrisi    1076\n",
              "Name: Class, dtype: int64"
            ]
          },
          "metadata": {},
          "execution_count": 22
        }
      ]
    },
    {
      "cell_type": "code",
      "source": [
        "data[\"Class\"].value_counts().plot(kind=\"pie\",autopct=\"%.2f%%\")\n",
        "plt.show()"
      ],
      "metadata": {
        "colab": {
          "base_uri": "https://localhost:8080/",
          "height": 248
        },
        "id": "BwprV47_N4ot",
        "outputId": "3b0c8f97-e953-40cb-b7c1-4d4bdeef0ba0"
      },
      "execution_count": 23,
      "outputs": [
        {
          "output_type": "display_data",
          "data": {
            "text/plain": [
              "<Figure size 432x288 with 1 Axes>"
            ],
            "image/png": "[encoded data removed]"
          },
          "metadata": {}
        }
      ]
    },
    {
      "cell_type": "markdown",
      "source": [
        "#Correlation plot for all features"
      ],
      "metadata": {
        "id": "vvyLZ18jbDbw"
      }
    },
    {
      "cell_type": "code",
      "source": [
        "corr_grf=data.iloc[:,:-1].corr()\n",
        "corr_grf.style.background_gradient(axis=0,vmin=0.03,vmax=0.99)"
      ],
      "metadata": {
        "colab": {
          "base_uri": "https://localhost:8080/",
          "height": 445
        },
        "id": "f6zMeS7Ka-nD",
        "outputId": "8849b61d-90ce-4dec-cfe8-0d2fb32460e0"
      },
      "execution_count": 24,
      "outputs": [
        {
          "output_type": "execute_result",
          "data": {
            "text/plain": [
              "<pandas.io.formats.style.Styler at 0x7fb540798d90>"
            ],
            "text/html": [
              "<style type=\"text/css\">\n",
              "#T_1cce1_row0_col0, #T_1cce1_row0_col4, #T_1cce1_row0_col5, #T_1cce1_row1_col1, #T_1cce1_row2_col2, #T_1cce1_row3_col3, #T_1cce1_row4_col0, #T_1cce1_row4_col4, #T_1cce1_row4_col5, #T_1cce1_row5_col0, #T_1cce1_row5_col4, #T_1cce1_row5_col5, #T_1cce1_row6_col6, #T_1cce1_row7_col7, #T_1cce1_row8_col8, #T_1cce1_row9_col9, #T_1cce1_row10_col10, #T_1cce1_row11_col11 {\n",
              "  background-color: #023858;\n",
              "  color: #f1f1f1;\n",
              "}\n",
              "#T_1cce1_row0_col1, #T_1cce1_row1_col0 {\n",
              "  background-color: #034871;\n",
              "  color: #f1f1f1;\n",
              "}\n",
              "#T_1cce1_row0_col2, #T_1cce1_row2_col0, #T_1cce1_row2_col4, #T_1cce1_row2_col5, #T_1cce1_row4_col2, #T_1cce1_row5_col2 {\n",
              "  background-color: #0568a3;\n",
              "  color: #f1f1f1;\n",
              "}\n",
              "#T_1cce1_row0_col3, #T_1cce1_row3_col0, #T_1cce1_row3_col4, #T_1cce1_row4_col3 {\n",
              "  background-color: #1c7fb8;\n",
              "  color: #f1f1f1;\n",
              "}\n",
              "#T_1cce1_row0_col6, #T_1cce1_row4_col6, #T_1cce1_row5_col6, #T_1cce1_row6_col0, #T_1cce1_row6_col4, #T_1cce1_row6_col5 {\n",
              "  background-color: #e7e3f0;\n",
              "  color: #000000;\n",
              "}\n",
              "#T_1cce1_row0_col7, #T_1cce1_row5_col7, #T_1cce1_row7_col0, #T_1cce1_row7_col5 {\n",
              "  background-color: #ede7f2;\n",
              "  color: #000000;\n",
              "}\n",
              "#T_1cce1_row0_col8, #T_1cce1_row0_col9, #T_1cce1_row0_col11, #T_1cce1_row1_col8, #T_1cce1_row1_col9, #T_1cce1_row1_col11, #T_1cce1_row2_col8, #T_1cce1_row2_col9, #T_1cce1_row2_col11, #T_1cce1_row3_col6, #T_1cce1_row3_col10, #T_1cce1_row4_col8, #T_1cce1_row4_col9, #T_1cce1_row4_col11, #T_1cce1_row5_col8, #T_1cce1_row5_col9, #T_1cce1_row5_col11, #T_1cce1_row6_col3, #T_1cce1_row6_col7, #T_1cce1_row6_col8, #T_1cce1_row6_col9, #T_1cce1_row6_col11, #T_1cce1_row7_col6, #T_1cce1_row7_col11, #T_1cce1_row8_col0, #T_1cce1_row8_col1, #T_1cce1_row8_col2, #T_1cce1_row8_col4, #T_1cce1_row8_col5, #T_1cce1_row8_col6, #T_1cce1_row8_col10, #T_1cce1_row9_col0, #T_1cce1_row9_col1, #T_1cce1_row9_col2, #T_1cce1_row9_col4, #T_1cce1_row9_col5, #T_1cce1_row9_col6, #T_1cce1_row9_col10, #T_1cce1_row10_col3, #T_1cce1_row10_col8, #T_1cce1_row10_col9, #T_1cce1_row10_col11, #T_1cce1_row11_col0, #T_1cce1_row11_col1, #T_1cce1_row11_col2, #T_1cce1_row11_col4, #T_1cce1_row11_col5, #T_1cce1_row11_col6, #T_1cce1_row11_col7, #T_1cce1_row11_col10 {\n",
              "  background-color: #fff7fb;\n",
              "  color: #000000;\n",
              "}\n",
              "#T_1cce1_row0_col10, #T_1cce1_row4_col10, #T_1cce1_row5_col10, #T_1cce1_row10_col0, #T_1cce1_row10_col4, #T_1cce1_row10_col5 {\n",
              "  background-color: #e8e4f0;\n",
              "  color: #000000;\n",
              "}\n",
              "#T_1cce1_row1_col2, #T_1cce1_row2_col1 {\n",
              "  background-color: #034369;\n",
              "  color: #f1f1f1;\n",
              "}\n",
              "#T_1cce1_row1_col3, #T_1cce1_row3_col1 {\n",
              "  background-color: #9fbad9;\n",
              "  color: #000000;\n",
              "}\n",
              "#T_1cce1_row1_col4, #T_1cce1_row1_col5, #T_1cce1_row4_col1, #T_1cce1_row5_col1 {\n",
              "  background-color: #03476f;\n",
              "  color: #f1f1f1;\n",
              "}\n",
              "#T_1cce1_row1_col6, #T_1cce1_row6_col1 {\n",
              "  background-color: #7eadd1;\n",
              "  color: #f1f1f1;\n",
              "}\n",
              "#T_1cce1_row1_col7, #T_1cce1_row7_col1 {\n",
              "  background-color: #f6eff7;\n",
              "  color: #000000;\n",
              "}\n",
              "#T_1cce1_row1_col10, #T_1cce1_row10_col1 {\n",
              "  background-color: #7bacd1;\n",
              "  color: #f1f1f1;\n",
              "}\n",
              "#T_1cce1_row2_col3, #T_1cce1_row3_col2 {\n",
              "  background-color: #f2ecf5;\n",
              "  color: #000000;\n",
              "}\n",
              "#T_1cce1_row2_col6, #T_1cce1_row6_col2 {\n",
              "  background-color: #1278b4;\n",
              "  color: #f1f1f1;\n",
              "}\n",
              "#T_1cce1_row2_col7, #T_1cce1_row7_col2, #T_1cce1_row7_col9, #T_1cce1_row9_col7 {\n",
              "  background-color: #f1ebf4;\n",
              "  color: #000000;\n",
              "}\n",
              "#T_1cce1_row2_col10, #T_1cce1_row10_col2 {\n",
              "  background-color: #0d75b3;\n",
              "  color: #f1f1f1;\n",
              "}\n",
              "#T_1cce1_row3_col5, #T_1cce1_row5_col3 {\n",
              "  background-color: #1b7eb7;\n",
              "  color: #f1f1f1;\n",
              "}\n",
              "#T_1cce1_row3_col7, #T_1cce1_row7_col3 {\n",
              "  background-color: #f7f0f7;\n",
              "  color: #000000;\n",
              "}\n",
              "#T_1cce1_row3_col8, #T_1cce1_row8_col3 {\n",
              "  background-color: #e0deed;\n",
              "  color: #000000;\n",
              "}\n",
              "#T_1cce1_row3_col9, #T_1cce1_row9_col3 {\n",
              "  background-color: #62a2cb;\n",
              "  color: #f1f1f1;\n",
              "}\n",
              "#T_1cce1_row3_col11, #T_1cce1_row11_col3 {\n",
              "  background-color: #4c99c5;\n",
              "  color: #f1f1f1;\n",
              "}\n",
              "#T_1cce1_row4_col7, #T_1cce1_row7_col4 {\n",
              "  background-color: #eee9f3;\n",
              "  color: #000000;\n",
              "}\n",
              "#T_1cce1_row6_col10, #T_1cce1_row10_col6 {\n",
              "  background-color: #023e62;\n",
              "  color: #f1f1f1;\n",
              "}\n",
              "#T_1cce1_row7_col8, #T_1cce1_row8_col7 {\n",
              "  background-color: #fbf3f9;\n",
              "  color: #000000;\n",
              "}\n",
              "#T_1cce1_row7_col10, #T_1cce1_row10_col7 {\n",
              "  background-color: #fef6fb;\n",
              "  color: #000000;\n",
              "}\n",
              "#T_1cce1_row8_col9, #T_1cce1_row9_col8 {\n",
              "  background-color: #c9cee4;\n",
              "  color: #000000;\n",
              "}\n",
              "#T_1cce1_row8_col11, #T_1cce1_row11_col8 {\n",
              "  background-color: #ced0e6;\n",
              "  color: #000000;\n",
              "}\n",
              "#T_1cce1_row9_col11, #T_1cce1_row11_col9 {\n",
              "  background-color: #023f64;\n",
              "  color: #f1f1f1;\n",
              "}\n",
              "</style>\n",
              "<table id=\"T_1cce1_\" class=\"dataframe\">\n",
              "  <thead>\n",
              "    <tr>\n",
              "      <th class=\"blank level0\" >&nbsp;</th>\n",
              "      <th class=\"col_heading level0 col0\" >Area</th>\n",
              "      <th class=\"col_heading level0 col1\" >Perimeter</th>\n",
              "      <th class=\"col_heading level0 col2\" >Major_Axis_Length</th>\n",
              "      <th class=\"col_heading level0 col3\" >Minor_Axis_Length</th>\n",
              "      <th class=\"col_heading level0 col4\" >Convex_Area</th>\n",
              "      <th class=\"col_heading level0 col5\" >Equiv_Diameter</th>\n",
              "      <th class=\"col_heading level0 col6\" >Eccentricity</th>\n",
              "      <th class=\"col_heading level0 col7\" >Solidity</th>\n",
              "      <th class=\"col_heading level0 col8\" >Extent</th>\n",
              "      <th class=\"col_heading level0 col9\" >Roundness</th>\n",
              "      <th class=\"col_heading level0 col10\" >Aspect_Ration</th>\n",
              "      <th class=\"col_heading level0 col11\" >Compactness</th>\n",
              "    </tr>\n",
              "  </thead>\n",
              "  <tbody>\n",
              "    <tr>\n",
              "      <th id=\"T_1cce1_level0_row0\" class=\"row_heading level0 row0\" >Area</th>\n",
              "      <td id=\"T_1cce1_row0_col0\" class=\"data row0 col0\" >1.000000</td>\n",
              "      <td id=\"T_1cce1_row0_col1\" class=\"data row0 col1\" >0.933546</td>\n",
              "      <td id=\"T_1cce1_row0_col2\" class=\"data row0 col2\" >0.792655</td>\n",
              "      <td id=\"T_1cce1_row0_col3\" class=\"data row0 col3\" >0.693065</td>\n",
              "      <td id=\"T_1cce1_row0_col4\" class=\"data row0 col4\" >0.999905</td>\n",
              "      <td id=\"T_1cce1_row0_col5\" class=\"data row0 col5\" >0.998852</td>\n",
              "      <td id=\"T_1cce1_row0_col6\" class=\"data row0 col6\" >0.173637</td>\n",
              "      <td id=\"T_1cce1_row0_col7\" class=\"data row0 col7\" >0.149142</td>\n",
              "      <td id=\"T_1cce1_row0_col8\" class=\"data row0 col8\" >0.004194</td>\n",
              "      <td id=\"T_1cce1_row0_col9\" class=\"data row0 col9\" >-0.183784</td>\n",
              "      <td id=\"T_1cce1_row0_col10\" class=\"data row0 col10\" >0.167332</td>\n",
              "      <td id=\"T_1cce1_row0_col11\" class=\"data row0 col11\" >-0.170247</td>\n",
              "    </tr>\n",
              "    <tr>\n",
              "      <th id=\"T_1cce1_level0_row1\" class=\"row_heading level0 row1\" >Perimeter</th>\n",
              "      <td id=\"T_1cce1_row1_col0\" class=\"data row1 col0\" >0.933546</td>\n",
              "      <td id=\"T_1cce1_row1_col1\" class=\"data row1 col1\" >1.000000</td>\n",
              "      <td id=\"T_1cce1_row1_col2\" class=\"data row1 col2\" >0.950087</td>\n",
              "      <td id=\"T_1cce1_row1_col3\" class=\"data row1 col3\" >0.405447</td>\n",
              "      <td id=\"T_1cce1_row1_col4\" class=\"data row1 col4\" >0.934181</td>\n",
              "      <td id=\"T_1cce1_row1_col5\" class=\"data row1 col5\" >0.934070</td>\n",
              "      <td id=\"T_1cce1_row1_col6\" class=\"data row1 col6\" >0.484656</td>\n",
              "      <td id=\"T_1cce1_row1_col7\" class=\"data row1 col7\" >0.086364</td>\n",
              "      <td id=\"T_1cce1_row1_col8\" class=\"data row1 col8\" >-0.096342</td>\n",
              "      <td id=\"T_1cce1_row1_col9\" class=\"data row1 col9\" >-0.520174</td>\n",
              "      <td id=\"T_1cce1_row1_col10\" class=\"data row1 col10\" >0.493419</td>\n",
              "      <td id=\"T_1cce1_row1_col11\" class=\"data row1 col11\" >-0.493163</td>\n",
              "    </tr>\n",
              "    <tr>\n",
              "      <th id=\"T_1cce1_level0_row2\" class=\"row_heading level0 row2\" >Major_Axis_Length</th>\n",
              "      <td id=\"T_1cce1_row2_col0\" class=\"data row2 col0\" >0.792655</td>\n",
              "      <td id=\"T_1cce1_row2_col1\" class=\"data row2 col1\" >0.950087</td>\n",
              "      <td id=\"T_1cce1_row2_col2\" class=\"data row2 col2\" >1.000000</td>\n",
              "      <td id=\"T_1cce1_row2_col3\" class=\"data row2 col3\" >0.114356</td>\n",
              "      <td id=\"T_1cce1_row2_col4\" class=\"data row2 col4\" >0.792514</td>\n",
              "      <td id=\"T_1cce1_row2_col5\" class=\"data row2 col5\" >0.792134</td>\n",
              "      <td id=\"T_1cce1_row2_col6\" class=\"data row2 col6\" >0.718042</td>\n",
              "      <td id=\"T_1cce1_row2_col7\" class=\"data row2 col7\" >0.120711</td>\n",
              "      <td id=\"T_1cce1_row2_col8\" class=\"data row2 col8\" >-0.157905</td>\n",
              "      <td id=\"T_1cce1_row2_col9\" class=\"data row2 col9\" >-0.721548</td>\n",
              "      <td id=\"T_1cce1_row2_col10\" class=\"data row2 col10\" >0.731211</td>\n",
              "      <td id=\"T_1cce1_row2_col11\" class=\"data row2 col11\" >-0.730792</td>\n",
              "    </tr>\n",
              "    <tr>\n",
              "      <th id=\"T_1cce1_level0_row3\" class=\"row_heading level0 row3\" >Minor_Axis_Length</th>\n",
              "      <td id=\"T_1cce1_row3_col0\" class=\"data row3 col0\" >0.693065</td>\n",
              "      <td id=\"T_1cce1_row3_col1\" class=\"data row3 col1\" >0.405447</td>\n",
              "      <td id=\"T_1cce1_row3_col2\" class=\"data row3 col2\" >0.114356</td>\n",
              "      <td id=\"T_1cce1_row3_col3\" class=\"data row3 col3\" >1.000000</td>\n",
              "      <td id=\"T_1cce1_row3_col4\" class=\"data row3 col4\" >0.693334</td>\n",
              "      <td id=\"T_1cce1_row3_col5\" class=\"data row3 col5\" >0.695613</td>\n",
              "      <td id=\"T_1cce1_row3_col6\" class=\"data row3 col6\" >-0.576042</td>\n",
              "      <td id=\"T_1cce1_row3_col7\" class=\"data row3 col7\" >0.084556</td>\n",
              "      <td id=\"T_1cce1_row3_col8\" class=\"data row3 col8\" >0.201491</td>\n",
              "      <td id=\"T_1cce1_row3_col9\" class=\"data row3 col9\" >0.546369</td>\n",
              "      <td id=\"T_1cce1_row3_col10\" class=\"data row3 col10\" >-0.586515</td>\n",
              "      <td id=\"T_1cce1_row3_col11\" class=\"data row3 col11\" >0.587931</td>\n",
              "    </tr>\n",
              "    <tr>\n",
              "      <th id=\"T_1cce1_level0_row4\" class=\"row_heading level0 row4\" >Convex_Area</th>\n",
              "      <td id=\"T_1cce1_row4_col0\" class=\"data row4 col0\" >0.999905</td>\n",
              "      <td id=\"T_1cce1_row4_col1\" class=\"data row4 col1\" >0.934181</td>\n",
              "      <td id=\"T_1cce1_row4_col2\" class=\"data row4 col2\" >0.792514</td>\n",
              "      <td id=\"T_1cce1_row4_col3\" class=\"data row4 col3\" >0.693334</td>\n",
              "      <td id=\"T_1cce1_row4_col4\" class=\"data row4 col4\" >1.000000</td>\n",
              "      <td id=\"T_1cce1_row4_col5\" class=\"data row4 col5\" >0.998805</td>\n",
              "      <td id=\"T_1cce1_row4_col6\" class=\"data row4 col6\" >0.173441</td>\n",
              "      <td id=\"T_1cce1_row4_col7\" class=\"data row4 col7\" >0.135697</td>\n",
              "      <td id=\"T_1cce1_row4_col8\" class=\"data row4 col8\" >0.003403</td>\n",
              "      <td id=\"T_1cce1_row4_col9\" class=\"data row4 col9\" >-0.185721</td>\n",
              "      <td id=\"T_1cce1_row4_col10\" class=\"data row4 col10\" >0.167089</td>\n",
              "      <td id=\"T_1cce1_row4_col11\" class=\"data row4 col11\" >-0.170120</td>\n",
              "    </tr>\n",
              "    <tr>\n",
              "      <th id=\"T_1cce1_level0_row5\" class=\"row_heading level0 row5\" >Equiv_Diameter</th>\n",
              "      <td id=\"T_1cce1_row5_col0\" class=\"data row5 col0\" >0.998852</td>\n",
              "      <td id=\"T_1cce1_row5_col1\" class=\"data row5 col1\" >0.934070</td>\n",
              "      <td id=\"T_1cce1_row5_col2\" class=\"data row5 col2\" >0.792134</td>\n",
              "      <td id=\"T_1cce1_row5_col3\" class=\"data row5 col3\" >0.695613</td>\n",
              "      <td id=\"T_1cce1_row5_col4\" class=\"data row5 col4\" >0.998805</td>\n",
              "      <td id=\"T_1cce1_row5_col5\" class=\"data row5 col5\" >1.000000</td>\n",
              "      <td id=\"T_1cce1_row5_col6\" class=\"data row5 col6\" >0.172296</td>\n",
              "      <td id=\"T_1cce1_row5_col7\" class=\"data row5 col7\" >0.146945</td>\n",
              "      <td id=\"T_1cce1_row5_col8\" class=\"data row5 col8\" >0.006059</td>\n",
              "      <td id=\"T_1cce1_row5_col9\" class=\"data row5 col9\" >-0.183203</td>\n",
              "      <td id=\"T_1cce1_row5_col10\" class=\"data row5 col10\" >0.165980</td>\n",
              "      <td id=\"T_1cce1_row5_col11\" class=\"data row5 col11\" >-0.168796</td>\n",
              "    </tr>\n",
              "    <tr>\n",
              "      <th id=\"T_1cce1_level0_row6\" class=\"row_heading level0 row6\" >Eccentricity</th>\n",
              "      <td id=\"T_1cce1_row6_col0\" class=\"data row6 col0\" >0.173637</td>\n",
              "      <td id=\"T_1cce1_row6_col1\" class=\"data row6 col1\" >0.484656</td>\n",
              "      <td id=\"T_1cce1_row6_col2\" class=\"data row6 col2\" >0.718042</td>\n",
              "      <td id=\"T_1cce1_row6_col3\" class=\"data row6 col3\" >-0.576042</td>\n",
              "      <td id=\"T_1cce1_row6_col4\" class=\"data row6 col4\" >0.173441</td>\n",
              "      <td id=\"T_1cce1_row6_col5\" class=\"data row6 col5\" >0.172296</td>\n",
              "      <td id=\"T_1cce1_row6_col6\" class=\"data row6 col6\" >1.000000</td>\n",
              "      <td id=\"T_1cce1_row6_col7\" class=\"data row6 col7\" >0.033603</td>\n",
              "      <td id=\"T_1cce1_row6_col8\" class=\"data row6 col8\" >-0.284906</td>\n",
              "      <td id=\"T_1cce1_row6_col9\" class=\"data row6 col9\" >-0.940287</td>\n",
              "      <td id=\"T_1cce1_row6_col10\" class=\"data row6 col10\" >0.964951</td>\n",
              "      <td id=\"T_1cce1_row6_col11\" class=\"data row6 col11\" >-0.989100</td>\n",
              "    </tr>\n",
              "    <tr>\n",
              "      <th id=\"T_1cce1_level0_row7\" class=\"row_heading level0 row7\" >Solidity</th>\n",
              "      <td id=\"T_1cce1_row7_col0\" class=\"data row7 col0\" >0.149142</td>\n",
              "      <td id=\"T_1cce1_row7_col1\" class=\"data row7 col1\" >0.086364</td>\n",
              "      <td id=\"T_1cce1_row7_col2\" class=\"data row7 col2\" >0.120711</td>\n",
              "      <td id=\"T_1cce1_row7_col3\" class=\"data row7 col3\" >0.084556</td>\n",
              "      <td id=\"T_1cce1_row7_col4\" class=\"data row7 col4\" >0.135697</td>\n",
              "      <td id=\"T_1cce1_row7_col5\" class=\"data row7 col5\" >0.146945</td>\n",
              "      <td id=\"T_1cce1_row7_col6\" class=\"data row7 col6\" >0.033603</td>\n",
              "      <td id=\"T_1cce1_row7_col7\" class=\"data row7 col7\" >1.000000</td>\n",
              "      <td id=\"T_1cce1_row7_col8\" class=\"data row7 col8\" >0.056804</td>\n",
              "      <td id=\"T_1cce1_row7_col9\" class=\"data row7 col9\" >0.120283</td>\n",
              "      <td id=\"T_1cce1_row7_col10\" class=\"data row7 col10\" >0.037335</td>\n",
              "      <td id=\"T_1cce1_row7_col11\" class=\"data row7 col11\" >-0.028548</td>\n",
              "    </tr>\n",
              "    <tr>\n",
              "      <th id=\"T_1cce1_level0_row8\" class=\"row_heading level0 row8\" >Extent</th>\n",
              "      <td id=\"T_1cce1_row8_col0\" class=\"data row8 col0\" >0.004194</td>\n",
              "      <td id=\"T_1cce1_row8_col1\" class=\"data row8 col1\" >-0.096342</td>\n",
              "      <td id=\"T_1cce1_row8_col2\" class=\"data row8 col2\" >-0.157905</td>\n",
              "      <td id=\"T_1cce1_row8_col3\" class=\"data row8 col3\" >0.201491</td>\n",
              "      <td id=\"T_1cce1_row8_col4\" class=\"data row8 col4\" >0.003403</td>\n",
              "      <td id=\"T_1cce1_row8_col5\" class=\"data row8 col5\" >0.006059</td>\n",
              "      <td id=\"T_1cce1_row8_col6\" class=\"data row8 col6\" >-0.284906</td>\n",
              "      <td id=\"T_1cce1_row8_col7\" class=\"data row8 col7\" >0.056804</td>\n",
              "      <td id=\"T_1cce1_row8_col8\" class=\"data row8 col8\" >1.000000</td>\n",
              "      <td id=\"T_1cce1_row8_col9\" class=\"data row8 col9\" >0.290077</td>\n",
              "      <td id=\"T_1cce1_row8_col10\" class=\"data row8 col10\" >-0.259225</td>\n",
              "      <td id=\"T_1cce1_row8_col11\" class=\"data row8 col11\" >0.275539</td>\n",
              "    </tr>\n",
              "    <tr>\n",
              "      <th id=\"T_1cce1_level0_row9\" class=\"row_heading level0 row9\" >Roundness</th>\n",
              "      <td id=\"T_1cce1_row9_col0\" class=\"data row9 col0\" >-0.183784</td>\n",
              "      <td id=\"T_1cce1_row9_col1\" class=\"data row9 col1\" >-0.520174</td>\n",
              "      <td id=\"T_1cce1_row9_col2\" class=\"data row9 col2\" >-0.721548</td>\n",
              "      <td id=\"T_1cce1_row9_col3\" class=\"data row9 col3\" >0.546369</td>\n",
              "      <td id=\"T_1cce1_row9_col4\" class=\"data row9 col4\" >-0.185721</td>\n",
              "      <td id=\"T_1cce1_row9_col5\" class=\"data row9 col5\" >-0.183203</td>\n",
              "      <td id=\"T_1cce1_row9_col6\" class=\"data row9 col6\" >-0.940287</td>\n",
              "      <td id=\"T_1cce1_row9_col7\" class=\"data row9 col7\" >0.120283</td>\n",
              "      <td id=\"T_1cce1_row9_col8\" class=\"data row9 col8\" >0.290077</td>\n",
              "      <td id=\"T_1cce1_row9_col9\" class=\"data row9 col9\" >1.000000</td>\n",
              "      <td id=\"T_1cce1_row9_col10\" class=\"data row9 col10\" >-0.962283</td>\n",
              "      <td id=\"T_1cce1_row9_col11\" class=\"data row9 col11\" >0.962843</td>\n",
              "    </tr>\n",
              "    <tr>\n",
              "      <th id=\"T_1cce1_level0_row10\" class=\"row_heading level0 row10\" >Aspect_Ration</th>\n",
              "      <td id=\"T_1cce1_row10_col0\" class=\"data row10 col0\" >0.167332</td>\n",
              "      <td id=\"T_1cce1_row10_col1\" class=\"data row10 col1\" >0.493419</td>\n",
              "      <td id=\"T_1cce1_row10_col2\" class=\"data row10 col2\" >0.731211</td>\n",
              "      <td id=\"T_1cce1_row10_col3\" class=\"data row10 col3\" >-0.586515</td>\n",
              "      <td id=\"T_1cce1_row10_col4\" class=\"data row10 col4\" >0.167089</td>\n",
              "      <td id=\"T_1cce1_row10_col5\" class=\"data row10 col5\" >0.165980</td>\n",
              "      <td id=\"T_1cce1_row10_col6\" class=\"data row10 col6\" >0.964951</td>\n",
              "      <td id=\"T_1cce1_row10_col7\" class=\"data row10 col7\" >0.037335</td>\n",
              "      <td id=\"T_1cce1_row10_col8\" class=\"data row10 col8\" >-0.259225</td>\n",
              "      <td id=\"T_1cce1_row10_col9\" class=\"data row10 col9\" >-0.962283</td>\n",
              "      <td id=\"T_1cce1_row10_col10\" class=\"data row10 col10\" >1.000000</td>\n",
              "      <td id=\"T_1cce1_row10_col11\" class=\"data row10 col11\" >-0.992552</td>\n",
              "    </tr>\n",
              "    <tr>\n",
              "      <th id=\"T_1cce1_level0_row11\" class=\"row_heading level0 row11\" >Compactness</th>\n",
              "      <td id=\"T_1cce1_row11_col0\" class=\"data row11 col0\" >-0.170247</td>\n",
              "      <td id=\"T_1cce1_row11_col1\" class=\"data row11 col1\" >-0.493163</td>\n",
              "      <td id=\"T_1cce1_row11_col2\" class=\"data row11 col2\" >-0.730792</td>\n",
              "      <td id=\"T_1cce1_row11_col3\" class=\"data row11 col3\" >0.587931</td>\n",
              "      <td id=\"T_1cce1_row11_col4\" class=\"data row11 col4\" >-0.170120</td>\n",
              "      <td id=\"T_1cce1_row11_col5\" class=\"data row11 col5\" >-0.168796</td>\n",
              "      <td id=\"T_1cce1_row11_col6\" class=\"data row11 col6\" >-0.989100</td>\n",
              "      <td id=\"T_1cce1_row11_col7\" class=\"data row11 col7\" >-0.028548</td>\n",
              "      <td id=\"T_1cce1_row11_col8\" class=\"data row11 col8\" >0.275539</td>\n",
              "      <td id=\"T_1cce1_row11_col9\" class=\"data row11 col9\" >0.962843</td>\n",
              "      <td id=\"T_1cce1_row11_col10\" class=\"data row11 col10\" >-0.992552</td>\n",
              "      <td id=\"T_1cce1_row11_col11\" class=\"data row11 col11\" >1.000000</td>\n",
              "    </tr>\n",
              "  </tbody>\n",
              "</table>\n"
            ]
          },
          "metadata": {},
          "execution_count": 24
        }
      ]
    },
    {
      "cell_type": "markdown",
      "source": [
        "As seen in the correlation plot, we can conclude:\n",
        "*   Area feature has a very high correlation with Convex_Area and Equiv_Diameter features\n",
        "*   Convex_Area has very high correlation with Perimeter and Equiv_Diameter features\n",
        "*   Eccentricity and Aspect_Ration have a high correlation\n",
        "*   Major_Axis_Length has a high correlation with Perimeter  \n",
        "*   Roundness and Compactness have a high correlation\n",
        " \n",
        "**I will try to train model after remove outliers**"
      ],
      "metadata": {
        "id": "78Ul08tta7w6"
      }
    },
    {
      "cell_type": "markdown",
      "source": [
        "#Data modification - converting classes into numerical values"
      ],
      "metadata": {
        "id": "p-swAIkqzL5W"
      }
    },
    {
      "cell_type": "markdown",
      "source": [
        "'Çerçevelik' = 0 <br>\n",
        "'Ürgüp Sivrisi' = 1"
      ],
      "metadata": {
        "id": "x1qfA_vuzi9Y"
      }
    },
    {
      "cell_type": "code",
      "source": [
        "for i in range(2285):\n",
        "    if data.iloc[i, -1] == 'Çerçevelik':\n",
        "       data.iloc[i, -1] = 0\n",
        "    else:\n",
        "        data.iloc[i, -1] = 1"
      ],
      "metadata": {
        "id": "6HBF5ByAzdut"
      },
      "execution_count": 25,
      "outputs": []
    },
    {
      "cell_type": "code",
      "source": [
        "data.sample(10)"
      ],
      "metadata": {
        "colab": {
          "base_uri": "https://localhost:8080/",
          "height": 427
        },
        "id": "M3CYNe_qzpS9",
        "outputId": "ab6f4453-e3ae-4c3e-ceaf-5917da508514"
      },
      "execution_count": 26,
      "outputs": [
        {
          "output_type": "execute_result",
          "data": {
            "text/plain": [
              "        Area  Perimeter  Major_Axis_Length  Minor_Axis_Length  Convex_Area  \\\n",
              "246    83148   1108.881           438.9682           241.5330        83703   \n",
              "460    72433   1082.509           440.8155           210.3908        73140   \n",
              "1763  111119   1285.126           505.2116           280.6582       111927   \n",
              "2268   95146   1192.116           461.1654           263.7214        96444   \n",
              "2142   81479   1256.515           555.6465           189.8791        82557   \n",
              "1523   97164   1226.831           490.2503           254.4169        98018   \n",
              "196    72508   1032.429           404.1488           229.0448        73094   \n",
              "983   104503   1256.076           484.5323           275.2877       105471   \n",
              "2260   74545   1164.653           503.7119           191.1775        75354   \n",
              "2368   85133   1240.763           531.5886           204.8944        86272   \n",
              "\n",
              "      Equiv_Diameter  Eccentricity  Solidity  Extent  Roundness  \\\n",
              "246         325.3726        0.8350    0.9934  0.6906     0.8498   \n",
              "460         303.6850        0.8788    0.9903  0.7269     0.7768   \n",
              "1763        376.1397        0.8315    0.9928  0.6893     0.8455   \n",
              "2268        348.0570        0.8204    0.9865  0.6704     0.8413   \n",
              "2142        322.0905        0.9398    0.9869  0.7438     0.6485   \n",
              "1523        351.7287        0.8548    0.9913  0.7389     0.8112   \n",
              "196         303.8422        0.8239    0.9920  0.6619     0.8548   \n",
              "983         364.7703        0.8229    0.9908  0.7486     0.8324   \n",
              "2260        308.0806        0.9252    0.9893  0.7047     0.6906   \n",
              "2368        329.2335        0.9227    0.9868  0.5787     0.6949   \n",
              "\n",
              "      Aspect_Ration  Compactness Class  \n",
              "246          1.8174       0.7412     0  \n",
              "460          2.0952       0.6889     0  \n",
              "1763         1.8001       0.7445     1  \n",
              "2268         1.7487       0.7547     1  \n",
              "2142         2.9263       0.5797     1  \n",
              "1523         1.9270       0.7174     1  \n",
              "196          1.7645       0.7518     0  \n",
              "983          1.7601       0.7528     0  \n",
              "2260         2.6348       0.6116     1  \n",
              "2368         2.5945       0.6193     1  "
            ],
            "text/html": [
              "\n",
              "  <div id=\"df-c5fdba3f-ccf3-4c2b-970e-c640893601cb\">\n",
              "    <div class=\"colab-df-container\">\n",
              "      <div>\n",
              "<style scoped>\n",
              "    .dataframe tbody tr th:only-of-type {\n",
              "        vertical-align: middle;\n",
              "    }\n",
              "\n",
              "    .dataframe tbody tr th {\n",
              "        vertical-align: top;\n",
              "    }\n",
              "\n",
              "    .dataframe thead th {\n",
              "        text-align: right;\n",
              "    }\n",
              "</style>\n",
              "<table border=\"1\" class=\"dataframe\">\n",
              "  <thead>\n",
              "    <tr style=\"text-align: right;\">\n",
              "      <th></th>\n",
              "      <th>Area</th>\n",
              "      <th>Perimeter</th>\n",
              "      <th>Major_Axis_Length</th>\n",
              "      <th>Minor_Axis_Length</th>\n",
              "      <th>Convex_Area</th>\n",
              "      <th>Equiv_Diameter</th>\n",
              "      <th>Eccentricity</th>\n",
              "      <th>Solidity</th>\n",
              "      <th>Extent</th>\n",
              "      <th>Roundness</th>\n",
              "      <th>Aspect_Ration</th>\n",
              "      <th>Compactness</th>\n",
              "      <th>Class</th>\n",
              "    </tr>\n",
              "  </thead>\n",
              "  <tbody>\n",
              "    <tr>\n",
              "      <th>246</th>\n",
              "      <td>83148</td>\n",
              "      <td>1108.881</td>\n",
              "      <td>438.9682</td>\n",
              "      <td>241.5330</td>\n",
              "      <td>83703</td>\n",
              "      <td>325.3726</td>\n",
              "      <td>0.8350</td>\n",
              "      <td>0.9934</td>\n",
              "      <td>0.6906</td>\n",
              "      <td>0.8498</td>\n",
              "      <td>1.8174</td>\n",
              "      <td>0.7412</td>\n",
              "      <td>0</td>\n",
              "    </tr>\n",
              "    <tr>\n",
              "      <th>460</th>\n",
              "      <td>72433</td>\n",
              "      <td>1082.509</td>\n",
              "      <td>440.8155</td>\n",
              "      <td>210.3908</td>\n",
              "      <td>73140</td>\n",
              "      <td>303.6850</td>\n",
              "      <td>0.8788</td>\n",
              "      <td>0.9903</td>\n",
              "      <td>0.7269</td>\n",
              "      <td>0.7768</td>\n",
              "      <td>2.0952</td>\n",
              "      <td>0.6889</td>\n",
              "      <td>0</td>\n",
              "    </tr>\n",
              "    <tr>\n",
              "      <th>1763</th>\n",
              "      <td>111119</td>\n",
              "      <td>1285.126</td>\n",
              "      <td>505.2116</td>\n",
              "      <td>280.6582</td>\n",
              "      <td>111927</td>\n",
              "      <td>376.1397</td>\n",
              "      <td>0.8315</td>\n",
              "      <td>0.9928</td>\n",
              "      <td>0.6893</td>\n",
              "      <td>0.8455</td>\n",
              "      <td>1.8001</td>\n",
              "      <td>0.7445</td>\n",
              "      <td>1</td>\n",
              "    </tr>\n",
              "    <tr>\n",
              "      <th>2268</th>\n",
              "      <td>95146</td>\n",
              "      <td>1192.116</td>\n",
              "      <td>461.1654</td>\n",
              "      <td>263.7214</td>\n",
              "      <td>96444</td>\n",
              "      <td>348.0570</td>\n",
              "      <td>0.8204</td>\n",
              "      <td>0.9865</td>\n",
              "      <td>0.6704</td>\n",
              "      <td>0.8413</td>\n",
              "      <td>1.7487</td>\n",
              "      <td>0.7547</td>\n",
              "      <td>1</td>\n",
              "    </tr>\n",
              "    <tr>\n",
              "      <th>2142</th>\n",
              "      <td>81479</td>\n",
              "      <td>1256.515</td>\n",
              "      <td>555.6465</td>\n",
              "      <td>189.8791</td>\n",
              "      <td>82557</td>\n",
              "      <td>322.0905</td>\n",
              "      <td>0.9398</td>\n",
              "      <td>0.9869</td>\n",
              "      <td>0.7438</td>\n",
              "      <td>0.6485</td>\n",
              "      <td>2.9263</td>\n",
              "      <td>0.5797</td>\n",
              "      <td>1</td>\n",
              "    </tr>\n",
              "    <tr>\n",
              "      <th>1523</th>\n",
              "      <td>97164</td>\n",
              "      <td>1226.831</td>\n",
              "      <td>490.2503</td>\n",
              "      <td>254.4169</td>\n",
              "      <td>98018</td>\n",
              "      <td>351.7287</td>\n",
              "      <td>0.8548</td>\n",
              "      <td>0.9913</td>\n",
              "      <td>0.7389</td>\n",
              "      <td>0.8112</td>\n",
              "      <td>1.9270</td>\n",
              "      <td>0.7174</td>\n",
              "      <td>1</td>\n",
              "    </tr>\n",
              "    <tr>\n",
              "      <th>196</th>\n",
              "      <td>72508</td>\n",
              "      <td>1032.429</td>\n",
              "      <td>404.1488</td>\n",
              "      <td>229.0448</td>\n",
              "      <td>73094</td>\n",
              "      <td>303.8422</td>\n",
              "      <td>0.8239</td>\n",
              "      <td>0.9920</td>\n",
              "      <td>0.6619</td>\n",
              "      <td>0.8548</td>\n",
              "      <td>1.7645</td>\n",
              "      <td>0.7518</td>\n",
              "      <td>0</td>\n",
              "    </tr>\n",
              "    <tr>\n",
              "      <th>983</th>\n",
              "      <td>104503</td>\n",
              "      <td>1256.076</td>\n",
              "      <td>484.5323</td>\n",
              "      <td>275.2877</td>\n",
              "      <td>105471</td>\n",
              "      <td>364.7703</td>\n",
              "      <td>0.8229</td>\n",
              "      <td>0.9908</td>\n",
              "      <td>0.7486</td>\n",
              "      <td>0.8324</td>\n",
              "      <td>1.7601</td>\n",
              "      <td>0.7528</td>\n",
              "      <td>0</td>\n",
              "    </tr>\n",
              "    <tr>\n",
              "      <th>2260</th>\n",
              "      <td>74545</td>\n",
              "      <td>1164.653</td>\n",
              "      <td>503.7119</td>\n",
              "      <td>191.1775</td>\n",
              "      <td>75354</td>\n",
              "      <td>308.0806</td>\n",
              "      <td>0.9252</td>\n",
              "      <td>0.9893</td>\n",
              "      <td>0.7047</td>\n",
              "      <td>0.6906</td>\n",
              "      <td>2.6348</td>\n",
              "      <td>0.6116</td>\n",
              "      <td>1</td>\n",
              "    </tr>\n",
              "    <tr>\n",
              "      <th>2368</th>\n",
              "      <td>85133</td>\n",
              "      <td>1240.763</td>\n",
              "      <td>531.5886</td>\n",
              "      <td>204.8944</td>\n",
              "      <td>86272</td>\n",
              "      <td>329.2335</td>\n",
              "      <td>0.9227</td>\n",
              "      <td>0.9868</td>\n",
              "      <td>0.5787</td>\n",
              "      <td>0.6949</td>\n",
              "      <td>2.5945</td>\n",
              "      <td>0.6193</td>\n",
              "      <td>1</td>\n",
              "    </tr>\n",
              "  </tbody>\n",
              "</table>\n",
              "</div>\n",
              "      <button class=\"colab-df-convert\" onclick=\"convertToInteractive('df-c5fdba3f-ccf3-4c2b-970e-c640893601cb')\"\n",
              "              title=\"Convert this dataframe to an interactive table.\"\n",
              "              style=\"display:none;\">\n",
              "        \n",
              "  <svg xmlns=\"http://www.w3.org/2000/svg\" height=\"24px\"viewBox=\"0 0 24 24\"\n",
              "       width=\"24px\">\n",
              "    <path d=\"M0 0h24v24H0V0z\" fill=\"none\"/>\n",
              "    <path d=\"M18.56 5.44l.94 2.06.94-2.06 2.06-.94-2.06-.94-.94-2.06-.94 2.06-2.06.94zm-11 1L8.5 8.5l.94-2.06 2.06-.94-2.06-.94L8.5 2.5l-.94 2.06-2.06.94zm10 10l.94 2.06.94-2.06 2.06-.94-2.06-.94-.94-2.06-.94 2.06-2.06.94z\"/><path d=\"M17.41 7.96l-1.37-1.37c-.4-.4-.92-.59-1.43-.59-.52 0-1.04.2-1.43.59L10.3 9.45l-7.72 7.72c-.78.78-.78 2.05 0 2.83L4 21.41c.39.39.9.59 1.41.59.51 0 1.02-.2 1.41-.59l7.78-7.78 2.81-2.81c.8-.78.8-2.07 0-2.86zM5.41 20L4 18.59l7.72-7.72 1.47 1.35L5.41 20z\"/>\n",
              "  </svg>\n",
              "      </button>\n",
              "      \n",
              "  <style>\n",
              "    .colab-df-container {\n",
              "      display:flex;\n",
              "      flex-wrap:wrap;\n",
              "      gap: 12px;\n",
              "    }\n",
              "\n",
              "    .colab-df-convert {\n",
              "      background-color: #E8F0FE;\n",
              "      border: none;\n",
              "      border-radius: 50%;\n",
              "      cursor: pointer;\n",
              "      display: none;\n",
              "      fill: #1967D2;\n",
              "      height: 32px;\n",
              "      padding: 0 0 0 0;\n",
              "      width: 32px;\n",
              "    }\n",
              "\n",
              "    .colab-df-convert:hover {\n",
              "      background-color: #E2EBFA;\n",
              "      box-shadow: 0px 1px 2px rgba(60, 64, 67, 0.3), 0px 1px 3px 1px rgba(60, 64, 67, 0.15);\n",
              "      fill: #174EA6;\n",
              "    }\n",
              "\n",
              "    [theme=dark] .colab-df-convert {\n",
              "      background-color: #3B4455;\n",
              "      fill: #D2E3FC;\n",
              "    }\n",
              "\n",
              "    [theme=dark] .colab-df-convert:hover {\n",
              "      background-color: #434B5C;\n",
              "      box-shadow: 0px 1px 3px 1px rgba(0, 0, 0, 0.15);\n",
              "      filter: drop-shadow(0px 1px 2px rgba(0, 0, 0, 0.3));\n",
              "      fill: #FFFFFF;\n",
              "    }\n",
              "  </style>\n",
              "\n",
              "      <script>\n",
              "        const buttonEl =\n",
              "          document.querySelector('#df-c5fdba3f-ccf3-4c2b-970e-c640893601cb button.colab-df-convert');\n",
              "        buttonEl.style.display =\n",
              "          google.colab.kernel.accessAllowed ? 'block' : 'none';\n",
              "\n",
              "        async function convertToInteractive(key) {\n",
              "          const element = document.querySelector('#df-c5fdba3f-ccf3-4c2b-970e-c640893601cb');\n",
              "          const dataTable =\n",
              "            await google.colab.kernel.invokeFunction('convertToInteractive',\n",
              "                                                     [key], {});\n",
              "          if (!dataTable) return;\n",
              "\n",
              "          const docLinkHtml = 'Like what you see? Visit the ' +\n",
              "            '<a target=\"_blank\" href=https://colab.research.google.com/notebooks/data_table.ipynb>data table notebook</a>'\n",
              "            + ' to learn more about interactive tables.';\n",
              "          element.innerHTML = '';\n",
              "          dataTable['output_type'] = 'display_data';\n",
              "          await google.colab.output.renderOutput(dataTable, element);\n",
              "          const docLink = document.createElement('div');\n",
              "          docLink.innerHTML = docLinkHtml;\n",
              "          element.appendChild(docLink);\n",
              "        }\n",
              "      </script>\n",
              "    </div>\n",
              "  </div>\n",
              "  "
            ]
          },
          "metadata": {},
          "execution_count": 26
        }
      ]
    },
    {
      "cell_type": "markdown",
      "source": [
        "#Seperating into Features and Labels\n"
      ],
      "metadata": {
        "id": "nne4oVMFjOjG"
      }
    },
    {
      "cell_type": "code",
      "source": [
        "X = data.drop('Class', axis=1)\n",
        "y = data['Class']"
      ],
      "metadata": {
        "id": "f_MCn8y3SHcl"
      },
      "execution_count": 27,
      "outputs": []
    },
    {
      "cell_type": "code",
      "source": [
        "X.columns"
      ],
      "metadata": {
        "colab": {
          "base_uri": "https://localhost:8080/"
        },
        "id": "Q1JiYbVKZf2J",
        "outputId": "d0583994-5e1c-4a92-b798-1be02ee11570"
      },
      "execution_count": 28,
      "outputs": [
        {
          "output_type": "execute_result",
          "data": {
            "text/plain": [
              "Index(['Area', 'Perimeter', 'Major_Axis_Length', 'Minor_Axis_Length',\n",
              "       'Convex_Area', 'Equiv_Diameter', 'Eccentricity', 'Solidity', 'Extent',\n",
              "       'Roundness', 'Aspect_Ration', 'Compactness'],\n",
              "      dtype='object')"
            ]
          },
          "metadata": {},
          "execution_count": 28
        }
      ]
    },
    {
      "cell_type": "code",
      "source": [
        "y"
      ],
      "metadata": {
        "colab": {
          "base_uri": "https://localhost:8080/"
        },
        "id": "sFAviA09beZ5",
        "outputId": "bbb5ae5f-7aeb-41eb-8ab5-c89fcb238b40"
      },
      "execution_count": 29,
      "outputs": [
        {
          "output_type": "execute_result",
          "data": {
            "text/plain": [
              "0       0\n",
              "1       0\n",
              "2       0\n",
              "3       0\n",
              "4       0\n",
              "       ..\n",
              "2494    1\n",
              "2496    1\n",
              "2497    1\n",
              "2498    1\n",
              "2499    1\n",
              "Name: Class, Length: 2285, dtype: object"
            ]
          },
          "metadata": {},
          "execution_count": 29
        }
      ]
    },
    {
      "cell_type": "code",
      "source": [
        "y = y.astype('int')"
      ],
      "metadata": {
        "id": "vJyX7Ka0C7Bj"
      },
      "execution_count": 30,
      "outputs": []
    },
    {
      "cell_type": "code",
      "source": [
        "data.describe()"
      ],
      "metadata": {
        "colab": {
          "base_uri": "https://localhost:8080/",
          "height": 364
        },
        "id": "XOJaL31MU8wj",
        "outputId": "ff8b1b64-4257-4cbe-b9b7-30e4af6c16a0"
      },
      "execution_count": 31,
      "outputs": [
        {
          "output_type": "execute_result",
          "data": {
            "text/plain": [
              "                Area    Perimeter  Major_Axis_Length  Minor_Axis_Length  \\\n",
              "count    2285.000000  2285.000000        2285.000000        2285.000000   \n",
              "mean    80352.426258  1125.317612         454.609228         225.841833   \n",
              "std     12806.047547   103.092571          52.631604          21.784492   \n",
              "min     47939.000000   868.485000         324.011300         167.273600   \n",
              "25%     70981.000000  1048.514000         415.275700         211.877500   \n",
              "50%     78850.000000  1120.129000         448.709400         224.846500   \n",
              "75%     89020.000000  1197.405000         490.250300         239.828100   \n",
              "max    117831.000000  1417.789000         608.677500         284.543600   \n",
              "\n",
              "         Convex_Area  Equiv_Diameter  Eccentricity     Solidity       Extent  \\\n",
              "count    2285.000000     2285.000000   2285.000000  2285.000000  2285.000000   \n",
              "mean    81164.995186      318.849962      0.860638     0.989942     0.696613   \n",
              "std     12908.161779       25.354878      0.041404     0.002160     0.055906   \n",
              "min     48366.000000      247.058400      0.734800     0.983500     0.538700   \n",
              "25%     71725.000000      300.625700      0.832100     0.988600     0.663000   \n",
              "50%     79681.000000      316.851600      0.863100     0.990400     0.714500   \n",
              "75%     89988.000000      336.665700      0.894500     0.991600     0.740300   \n",
              "max    118591.000000      387.333300      0.940900     0.994400     0.829600   \n",
              "\n",
              "         Roundness  Aspect_Ration  Compactness  \n",
              "count  2285.000000    2285.000000  2285.000000  \n",
              "mean      0.795676       2.029513     0.705559  \n",
              "std       0.051604       0.292820     0.049513  \n",
              "min       0.645700       1.474300     0.578500  \n",
              "25%       0.758600       1.803200     0.667200  \n",
              "50%       0.800200       1.980100     0.709300  \n",
              "75%       0.835700       2.236500     0.743200  \n",
              "max       0.916200       2.952100     0.821300  "
            ],
            "text/html": [
              "\n",
              "  <div id=\"df-1d42e346-8327-48c5-ad75-4d929cd1f9d1\">\n",
              "    <div class=\"colab-df-container\">\n",
              "      <div>\n",
              "<style scoped>\n",
              "    .dataframe tbody tr th:only-of-type {\n",
              "        vertical-align: middle;\n",
              "    }\n",
              "\n",
              "    .dataframe tbody tr th {\n",
              "        vertical-align: top;\n",
              "    }\n",
              "\n",
              "    .dataframe thead th {\n",
              "        text-align: right;\n",
              "    }\n",
              "</style>\n",
              "<table border=\"1\" class=\"dataframe\">\n",
              "  <thead>\n",
              "    <tr style=\"text-align: right;\">\n",
              "      <th></th>\n",
              "      <th>Area</th>\n",
              "      <th>Perimeter</th>\n",
              "      <th>Major_Axis_Length</th>\n",
              "      <th>Minor_Axis_Length</th>\n",
              "      <th>Convex_Area</th>\n",
              "      <th>Equiv_Diameter</th>\n",
              "      <th>Eccentricity</th>\n",
              "      <th>Solidity</th>\n",
              "      <th>Extent</th>\n",
              "      <th>Roundness</th>\n",
              "      <th>Aspect_Ration</th>\n",
              "      <th>Compactness</th>\n",
              "    </tr>\n",
              "  </thead>\n",
              "  <tbody>\n",
              "    <tr>\n",
              "      <th>count</th>\n",
              "      <td>2285.000000</td>\n",
              "      <td>2285.000000</td>\n",
              "      <td>2285.000000</td>\n",
              "      <td>2285.000000</td>\n",
              "      <td>2285.000000</td>\n",
              "      <td>2285.000000</td>\n",
              "      <td>2285.000000</td>\n",
              "      <td>2285.000000</td>\n",
              "      <td>2285.000000</td>\n",
              "      <td>2285.000000</td>\n",
              "      <td>2285.000000</td>\n",
              "      <td>2285.000000</td>\n",
              "    </tr>\n",
              "    <tr>\n",
              "      <th>mean</th>\n",
              "      <td>80352.426258</td>\n",
              "      <td>1125.317612</td>\n",
              "      <td>454.609228</td>\n",
              "      <td>225.841833</td>\n",
              "      <td>81164.995186</td>\n",
              "      <td>318.849962</td>\n",
              "      <td>0.860638</td>\n",
              "      <td>0.989942</td>\n",
              "      <td>0.696613</td>\n",
              "      <td>0.795676</td>\n",
              "      <td>2.029513</td>\n",
              "      <td>0.705559</td>\n",
              "    </tr>\n",
              "    <tr>\n",
              "      <th>std</th>\n",
              "      <td>12806.047547</td>\n",
              "      <td>103.092571</td>\n",
              "      <td>52.631604</td>\n",
              "      <td>21.784492</td>\n",
              "      <td>12908.161779</td>\n",
              "      <td>25.354878</td>\n",
              "      <td>0.041404</td>\n",
              "      <td>0.002160</td>\n",
              "      <td>0.055906</td>\n",
              "      <td>0.051604</td>\n",
              "      <td>0.292820</td>\n",
              "      <td>0.049513</td>\n",
              "    </tr>\n",
              "    <tr>\n",
              "      <th>min</th>\n",
              "      <td>47939.000000</td>\n",
              "      <td>868.485000</td>\n",
              "      <td>324.011300</td>\n",
              "      <td>167.273600</td>\n",
              "      <td>48366.000000</td>\n",
              "      <td>247.058400</td>\n",
              "      <td>0.734800</td>\n",
              "      <td>0.983500</td>\n",
              "      <td>0.538700</td>\n",
              "      <td>0.645700</td>\n",
              "      <td>1.474300</td>\n",
              "      <td>0.578500</td>\n",
              "    </tr>\n",
              "    <tr>\n",
              "      <th>25%</th>\n",
              "      <td>70981.000000</td>\n",
              "      <td>1048.514000</td>\n",
              "      <td>415.275700</td>\n",
              "      <td>211.877500</td>\n",
              "      <td>71725.000000</td>\n",
              "      <td>300.625700</td>\n",
              "      <td>0.832100</td>\n",
              "      <td>0.988600</td>\n",
              "      <td>0.663000</td>\n",
              "      <td>0.758600</td>\n",
              "      <td>1.803200</td>\n",
              "      <td>0.667200</td>\n",
              "    </tr>\n",
              "    <tr>\n",
              "      <th>50%</th>\n",
              "      <td>78850.000000</td>\n",
              "      <td>1120.129000</td>\n",
              "      <td>448.709400</td>\n",
              "      <td>224.846500</td>\n",
              "      <td>79681.000000</td>\n",
              "      <td>316.851600</td>\n",
              "      <td>0.863100</td>\n",
              "      <td>0.990400</td>\n",
              "      <td>0.714500</td>\n",
              "      <td>0.800200</td>\n",
              "      <td>1.980100</td>\n",
              "      <td>0.709300</td>\n",
              "    </tr>\n",
              "    <tr>\n",
              "      <th>75%</th>\n",
              "      <td>89020.000000</td>\n",
              "      <td>1197.405000</td>\n",
              "      <td>490.250300</td>\n",
              "      <td>239.828100</td>\n",
              "      <td>89988.000000</td>\n",
              "      <td>336.665700</td>\n",
              "      <td>0.894500</td>\n",
              "      <td>0.991600</td>\n",
              "      <td>0.740300</td>\n",
              "      <td>0.835700</td>\n",
              "      <td>2.236500</td>\n",
              "      <td>0.743200</td>\n",
              "    </tr>\n",
              "    <tr>\n",
              "      <th>max</th>\n",
              "      <td>117831.000000</td>\n",
              "      <td>1417.789000</td>\n",
              "      <td>608.677500</td>\n",
              "      <td>284.543600</td>\n",
              "      <td>118591.000000</td>\n",
              "      <td>387.333300</td>\n",
              "      <td>0.940900</td>\n",
              "      <td>0.994400</td>\n",
              "      <td>0.829600</td>\n",
              "      <td>0.916200</td>\n",
              "      <td>2.952100</td>\n",
              "      <td>0.821300</td>\n",
              "    </tr>\n",
              "  </tbody>\n",
              "</table>\n",
              "</div>\n",
              "      <button class=\"colab-df-convert\" onclick=\"convertToInteractive('df-1d42e346-8327-48c5-ad75-4d929cd1f9d1')\"\n",
              "              title=\"Convert this dataframe to an interactive table.\"\n",
              "              style=\"display:none;\">\n",
              "        \n",
              "  <svg xmlns=\"http://www.w3.org/2000/svg\" height=\"24px\"viewBox=\"0 0 24 24\"\n",
              "       width=\"24px\">\n",
              "    <path d=\"M0 0h24v24H0V0z\" fill=\"none\"/>\n",
              "    <path d=\"M18.56 5.44l.94 2.06.94-2.06 2.06-.94-2.06-.94-.94-2.06-.94 2.06-2.06.94zm-11 1L8.5 8.5l.94-2.06 2.06-.94-2.06-.94L8.5 2.5l-.94 2.06-2.06.94zm10 10l.94 2.06.94-2.06 2.06-.94-2.06-.94-.94-2.06-.94 2.06-2.06.94z\"/><path d=\"M17.41 7.96l-1.37-1.37c-.4-.4-.92-.59-1.43-.59-.52 0-1.04.2-1.43.59L10.3 9.45l-7.72 7.72c-.78.78-.78 2.05 0 2.83L4 21.41c.39.39.9.59 1.41.59.51 0 1.02-.2 1.41-.59l7.78-7.78 2.81-2.81c.8-.78.8-2.07 0-2.86zM5.41 20L4 18.59l7.72-7.72 1.47 1.35L5.41 20z\"/>\n",
              "  </svg>\n",
              "      </button>\n",
              "      \n",
              "  <style>\n",
              "    .colab-df-container {\n",
              "      display:flex;\n",
              "      flex-wrap:wrap;\n",
              "      gap: 12px;\n",
              "    }\n",
              "\n",
              "    .colab-df-convert {\n",
              "      background-color: #E8F0FE;\n",
              "      border: none;\n",
              "      border-radius: 50%;\n",
              "      cursor: pointer;\n",
              "      display: none;\n",
              "      fill: #1967D2;\n",
              "      height: 32px;\n",
              "      padding: 0 0 0 0;\n",
              "      width: 32px;\n",
              "    }\n",
              "\n",
              "    .colab-df-convert:hover {\n",
              "      background-color: #E2EBFA;\n",
              "      box-shadow: 0px 1px 2px rgba(60, 64, 67, 0.3), 0px 1px 3px 1px rgba(60, 64, 67, 0.15);\n",
              "      fill: #174EA6;\n",
              "    }\n",
              "\n",
              "    [theme=dark] .colab-df-convert {\n",
              "      background-color: #3B4455;\n",
              "      fill: #D2E3FC;\n",
              "    }\n",
              "\n",
              "    [theme=dark] .colab-df-convert:hover {\n",
              "      background-color: #434B5C;\n",
              "      box-shadow: 0px 1px 3px 1px rgba(0, 0, 0, 0.15);\n",
              "      filter: drop-shadow(0px 1px 2px rgba(0, 0, 0, 0.3));\n",
              "      fill: #FFFFFF;\n",
              "    }\n",
              "  </style>\n",
              "\n",
              "      <script>\n",
              "        const buttonEl =\n",
              "          document.querySelector('#df-1d42e346-8327-48c5-ad75-4d929cd1f9d1 button.colab-df-convert');\n",
              "        buttonEl.style.display =\n",
              "          google.colab.kernel.accessAllowed ? 'block' : 'none';\n",
              "\n",
              "        async function convertToInteractive(key) {\n",
              "          const element = document.querySelector('#df-1d42e346-8327-48c5-ad75-4d929cd1f9d1');\n",
              "          const dataTable =\n",
              "            await google.colab.kernel.invokeFunction('convertToInteractive',\n",
              "                                                     [key], {});\n",
              "          if (!dataTable) return;\n",
              "\n",
              "          const docLinkHtml = 'Like what you see? Visit the ' +\n",
              "            '<a target=\"_blank\" href=https://colab.research.google.com/notebooks/data_table.ipynb>data table notebook</a>'\n",
              "            + ' to learn more about interactive tables.';\n",
              "          element.innerHTML = '';\n",
              "          dataTable['output_type'] = 'display_data';\n",
              "          await google.colab.output.renderOutput(dataTable, element);\n",
              "          const docLink = document.createElement('div');\n",
              "          docLink.innerHTML = docLinkHtml;\n",
              "          element.appendChild(docLink);\n",
              "        }\n",
              "      </script>\n",
              "    </div>\n",
              "  </div>\n",
              "  "
            ]
          },
          "metadata": {},
          "execution_count": 31
        }
      ]
    },
    {
      "cell_type": "markdown",
      "source": [
        "# Model Selection"
      ],
      "metadata": {
        "id": "ah-gHyd-0UV_"
      }
    },
    {
      "cell_type": "code",
      "source": [
        "from sklearn.model_selection import train_test_split\n",
        "\n",
        "X_train, X_test, y_train, y_test = train_test_split(X, y, test_size = 0.2, stratify=y, random_state=42)"
      ],
      "metadata": {
        "id": "f_nFXHokTSJY"
      },
      "execution_count": 32,
      "outputs": []
    },
    {
      "cell_type": "code",
      "source": [
        "print(f\"X_train shape: {X_train.shape}\")\n",
        "print(f\"X_test shape: {X_test.shape}\")\n",
        "print(f\"y_train shape: {y_train.shape}\")\n",
        "print(f\"y_test shape: {y_test.shape}\")"
      ],
      "metadata": {
        "colab": {
          "base_uri": "https://localhost:8080/"
        },
        "id": "Uv3L4T0n0z2u",
        "outputId": "bd9654fa-3934-4487-9804-fa31e169a4d9"
      },
      "execution_count": 33,
      "outputs": [
        {
          "output_type": "stream",
          "name": "stdout",
          "text": [
            "X_train shape: (1828, 12)\n",
            "X_test shape: (457, 12)\n",
            "y_train shape: (1828,)\n",
            "y_test shape: (457,)\n"
          ]
        }
      ]
    },
    {
      "cell_type": "markdown",
      "source": [
        "# MODEL TRAIN\n",
        "\n",
        "#StandardScaler"
      ],
      "metadata": {
        "id": "o2E4CxGP0aMI"
      }
    },
    {
      "cell_type": "code",
      "source": [
        "from sklearn.pipeline import Pipeline\n",
        "from sklearn.preprocessing import StandardScaler\n",
        "from sklearn.linear_model import LogisticRegression"
      ],
      "metadata": {
        "id": "VuKy4HUfX_Ae"
      },
      "execution_count": 34,
      "outputs": []
    },
    {
      "cell_type": "code",
      "source": [
        "sc = StandardScaler()   \n",
        "df_sc = sc.fit_transform(X_train)"
      ],
      "metadata": {
        "id": "Fc_zDNHTZ1Hk"
      },
      "execution_count": 35,
      "outputs": []
    },
    {
      "cell_type": "code",
      "source": [
        "X_train_sc = pd.DataFrame(df_sc, columns=['Area', 'Perimeter', 'Major_Axis_Length', 'Minor_Axis_Length',\n",
        "       'Convex_Area', 'Equiv_Diameter', 'Eccentricity', 'Solidity', 'Extent',\n",
        "       'Roundness', 'Aspect_Ration', 'Compactness'])"
      ],
      "metadata": {
        "id": "zvh8uMlGaAcG"
      },
      "execution_count": 36,
      "outputs": []
    },
    {
      "cell_type": "code",
      "source": [
        "X_train_sc"
      ],
      "metadata": {
        "colab": {
          "base_uri": "https://localhost:8080/",
          "height": 487
        },
        "id": "hnwQAPjMbwTk",
        "outputId": "48e5498b-fe7c-4cd4-897d-ae28f1a53a4b"
      },
      "execution_count": 37,
      "outputs": [
        {
          "output_type": "execute_result",
          "data": {
            "text/plain": [
              "          Area  Perimeter  Major_Axis_Length  Minor_Axis_Length  Convex_Area  \\\n",
              "0     1.693225   0.927156           0.268388           2.401301     1.682451   \n",
              "1     0.958159   1.838524           2.322561          -0.988695     0.952643   \n",
              "2     0.560393   0.728048           0.818680          -0.046137     0.559525   \n",
              "3     0.177058  -0.226923          -0.386403           0.786452     0.164773   \n",
              "4    -0.474879  -0.211946           0.015157          -0.806007    -0.474286   \n",
              "...        ...        ...                ...                ...          ...   \n",
              "1823 -0.797671  -0.171630           0.298900          -1.580144    -0.784437   \n",
              "1824 -1.480272  -1.645347          -1.558542          -0.649975    -1.484048   \n",
              "1825 -0.678467  -0.613748          -0.562787          -0.461720    -0.647224   \n",
              "1826 -0.627884  -0.535714          -0.459988          -0.502791    -0.615858   \n",
              "1827  0.957845   0.800111           0.528033           0.946132     0.963617   \n",
              "\n",
              "      Equiv_Diameter  Eccentricity  Solidity    Extent  Roundness  \\\n",
              "0           1.642852     -1.316406  0.906325  1.027273   1.245167   \n",
              "1           0.970149      1.795560  0.533841  1.178821  -2.389118   \n",
              "2           0.591828      0.763052  0.161357 -1.278416  -0.634100   \n",
              "3           0.216670     -0.760440  0.952885  0.556393   1.153921   \n",
              "4          -0.447936      0.686035 -0.118006 -0.141808  -0.566151   \n",
              "...              ...           ...       ...       ...        ...   \n",
              "1823       -0.790839      1.266069 -1.235457 -0.867072  -1.499961   \n",
              "1824       -1.550974     -0.926507  0.021676  0.762065   0.967548   \n",
              "1825       -0.663060      0.016950 -2.678832  0.269535   0.057035   \n",
              "1826       -0.609253      0.134882 -1.095776 -1.056507  -0.038093   \n",
              "1827        0.969852     -0.011931 -0.211127  0.092730   0.035680   \n",
              "\n",
              "      Aspect_Ration  Compactness  \n",
              "0         -1.162584     1.273437  \n",
              "1          2.715567    -2.242540  \n",
              "2          0.633792    -0.711486  \n",
              "3         -0.823588     0.835705  \n",
              "4          0.530693    -0.612643  \n",
              "...             ...          ...  \n",
              "1823       1.447999    -1.419523  \n",
              "1824      -0.931807     0.926479  \n",
              "1825      -0.210116     0.109514  \n",
              "1826      -0.095751    -0.007484  \n",
              "1827      -0.237085     0.119600  \n",
              "\n",
              "[1828 rows x 12 columns]"
            ],
            "text/html": [
              "\n",
              "  <div id=\"df-c5c5f74d-4601-4506-b187-2a8ec6dceb1a\">\n",
              "    <div class=\"colab-df-container\">\n",
              "      <div>\n",
              "<style scoped>\n",
              "    .dataframe tbody tr th:only-of-type {\n",
              "        vertical-align: middle;\n",
              "    }\n",
              "\n",
              "    .dataframe tbody tr th {\n",
              "        vertical-align: top;\n",
              "    }\n",
              "\n",
              "    .dataframe thead th {\n",
              "        text-align: right;\n",
              "    }\n",
              "</style>\n",
              "<table border=\"1\" class=\"dataframe\">\n",
              "  <thead>\n",
              "    <tr style=\"text-align: right;\">\n",
              "      <th></th>\n",
              "      <th>Area</th>\n",
              "      <th>Perimeter</th>\n",
              "      <th>Major_Axis_Length</th>\n",
              "      <th>Minor_Axis_Length</th>\n",
              "      <th>Convex_Area</th>\n",
              "      <th>Equiv_Diameter</th>\n",
              "      <th>Eccentricity</th>\n",
              "      <th>Solidity</th>\n",
              "      <th>Extent</th>\n",
              "      <th>Roundness</th>\n",
              "      <th>Aspect_Ration</th>\n",
              "      <th>Compactness</th>\n",
              "    </tr>\n",
              "  </thead>\n",
              "  <tbody>\n",
              "    <tr>\n",
              "      <th>0</th>\n",
              "      <td>1.693225</td>\n",
              "      <td>0.927156</td>\n",
              "      <td>0.268388</td>\n",
              "      <td>2.401301</td>\n",
              "      <td>1.682451</td>\n",
              "      <td>1.642852</td>\n",
              "      <td>-1.316406</td>\n",
              "      <td>0.906325</td>\n",
              "      <td>1.027273</td>\n",
              "      <td>1.245167</td>\n",
              "      <td>-1.162584</td>\n",
              "      <td>1.273437</td>\n",
              "    </tr>\n",
              "    <tr>\n",
              "      <th>1</th>\n",
              "      <td>0.958159</td>\n",
              "      <td>1.838524</td>\n",
              "      <td>2.322561</td>\n",
              "      <td>-0.988695</td>\n",
              "      <td>0.952643</td>\n",
              "      <td>0.970149</td>\n",
              "      <td>1.795560</td>\n",
              "      <td>0.533841</td>\n",
              "      <td>1.178821</td>\n",
              "      <td>-2.389118</td>\n",
              "      <td>2.715567</td>\n",
              "      <td>-2.242540</td>\n",
              "    </tr>\n",
              "    <tr>\n",
              "      <th>2</th>\n",
              "      <td>0.560393</td>\n",
              "      <td>0.728048</td>\n",
              "      <td>0.818680</td>\n",
              "      <td>-0.046137</td>\n",
              "      <td>0.559525</td>\n",
              "      <td>0.591828</td>\n",
              "      <td>0.763052</td>\n",
              "      <td>0.161357</td>\n",
              "      <td>-1.278416</td>\n",
              "      <td>-0.634100</td>\n",
              "      <td>0.633792</td>\n",
              "      <td>-0.711486</td>\n",
              "    </tr>\n",
              "    <tr>\n",
              "      <th>3</th>\n",
              "      <td>0.177058</td>\n",
              "      <td>-0.226923</td>\n",
              "      <td>-0.386403</td>\n",
              "      <td>0.786452</td>\n",
              "      <td>0.164773</td>\n",
              "      <td>0.216670</td>\n",
              "      <td>-0.760440</td>\n",
              "      <td>0.952885</td>\n",
              "      <td>0.556393</td>\n",
              "      <td>1.153921</td>\n",
              "      <td>-0.823588</td>\n",
              "      <td>0.835705</td>\n",
              "    </tr>\n",
              "    <tr>\n",
              "      <th>4</th>\n",
              "      <td>-0.474879</td>\n",
              "      <td>-0.211946</td>\n",
              "      <td>0.015157</td>\n",
              "      <td>-0.806007</td>\n",
              "      <td>-0.474286</td>\n",
              "      <td>-0.447936</td>\n",
              "      <td>0.686035</td>\n",
              "      <td>-0.118006</td>\n",
              "      <td>-0.141808</td>\n",
              "      <td>-0.566151</td>\n",
              "      <td>0.530693</td>\n",
              "      <td>-0.612643</td>\n",
              "    </tr>\n",
              "    <tr>\n",
              "      <th>...</th>\n",
              "      <td>...</td>\n",
              "      <td>...</td>\n",
              "      <td>...</td>\n",
              "      <td>...</td>\n",
              "      <td>...</td>\n",
              "      <td>...</td>\n",
              "      <td>...</td>\n",
              "      <td>...</td>\n",
              "      <td>...</td>\n",
              "      <td>...</td>\n",
              "      <td>...</td>\n",
              "      <td>...</td>\n",
              "    </tr>\n",
              "    <tr>\n",
              "      <th>1823</th>\n",
              "      <td>-0.797671</td>\n",
              "      <td>-0.171630</td>\n",
              "      <td>0.298900</td>\n",
              "      <td>-1.580144</td>\n",
              "      <td>-0.784437</td>\n",
              "      <td>-0.790839</td>\n",
              "      <td>1.266069</td>\n",
              "      <td>-1.235457</td>\n",
              "      <td>-0.867072</td>\n",
              "      <td>-1.499961</td>\n",
              "      <td>1.447999</td>\n",
              "      <td>-1.419523</td>\n",
              "    </tr>\n",
              "    <tr>\n",
              "      <th>1824</th>\n",
              "      <td>-1.480272</td>\n",
              "      <td>-1.645347</td>\n",
              "      <td>-1.558542</td>\n",
              "      <td>-0.649975</td>\n",
              "      <td>-1.484048</td>\n",
              "      <td>-1.550974</td>\n",
              "      <td>-0.926507</td>\n",
              "      <td>0.021676</td>\n",
              "      <td>0.762065</td>\n",
              "      <td>0.967548</td>\n",
              "      <td>-0.931807</td>\n",
              "      <td>0.926479</td>\n",
              "    </tr>\n",
              "    <tr>\n",
              "      <th>1825</th>\n",
              "      <td>-0.678467</td>\n",
              "      <td>-0.613748</td>\n",
              "      <td>-0.562787</td>\n",
              "      <td>-0.461720</td>\n",
              "      <td>-0.647224</td>\n",
              "      <td>-0.663060</td>\n",
              "      <td>0.016950</td>\n",
              "      <td>-2.678832</td>\n",
              "      <td>0.269535</td>\n",
              "      <td>0.057035</td>\n",
              "      <td>-0.210116</td>\n",
              "      <td>0.109514</td>\n",
              "    </tr>\n",
              "    <tr>\n",
              "      <th>1826</th>\n",
              "      <td>-0.627884</td>\n",
              "      <td>-0.535714</td>\n",
              "      <td>-0.459988</td>\n",
              "      <td>-0.502791</td>\n",
              "      <td>-0.615858</td>\n",
              "      <td>-0.609253</td>\n",
              "      <td>0.134882</td>\n",
              "      <td>-1.095776</td>\n",
              "      <td>-1.056507</td>\n",
              "      <td>-0.038093</td>\n",
              "      <td>-0.095751</td>\n",
              "      <td>-0.007484</td>\n",
              "    </tr>\n",
              "    <tr>\n",
              "      <th>1827</th>\n",
              "      <td>0.957845</td>\n",
              "      <td>0.800111</td>\n",
              "      <td>0.528033</td>\n",
              "      <td>0.946132</td>\n",
              "      <td>0.963617</td>\n",
              "      <td>0.969852</td>\n",
              "      <td>-0.011931</td>\n",
              "      <td>-0.211127</td>\n",
              "      <td>0.092730</td>\n",
              "      <td>0.035680</td>\n",
              "      <td>-0.237085</td>\n",
              "      <td>0.119600</td>\n",
              "    </tr>\n",
              "  </tbody>\n",
              "</table>\n",
              "<p>1828 rows × 12 columns</p>\n",
              "</div>\n",
              "      <button class=\"colab-df-convert\" onclick=\"convertToInteractive('df-c5c5f74d-4601-4506-b187-2a8ec6dceb1a')\"\n",
              "              title=\"Convert this dataframe to an interactive table.\"\n",
              "              style=\"display:none;\">\n",
              "        \n",
              "  <svg xmlns=\"http://www.w3.org/2000/svg\" height=\"24px\"viewBox=\"0 0 24 24\"\n",
              "       width=\"24px\">\n",
              "    <path d=\"M0 0h24v24H0V0z\" fill=\"none\"/>\n",
              "    <path d=\"M18.56 5.44l.94 2.06.94-2.06 2.06-.94-2.06-.94-.94-2.06-.94 2.06-2.06.94zm-11 1L8.5 8.5l.94-2.06 2.06-.94-2.06-.94L8.5 2.5l-.94 2.06-2.06.94zm10 10l.94 2.06.94-2.06 2.06-.94-2.06-.94-.94-2.06-.94 2.06-2.06.94z\"/><path d=\"M17.41 7.96l-1.37-1.37c-.4-.4-.92-.59-1.43-.59-.52 0-1.04.2-1.43.59L10.3 9.45l-7.72 7.72c-.78.78-.78 2.05 0 2.83L4 21.41c.39.39.9.59 1.41.59.51 0 1.02-.2 1.41-.59l7.78-7.78 2.81-2.81c.8-.78.8-2.07 0-2.86zM5.41 20L4 18.59l7.72-7.72 1.47 1.35L5.41 20z\"/>\n",
              "  </svg>\n",
              "      </button>\n",
              "      \n",
              "  <style>\n",
              "    .colab-df-container {\n",
              "      display:flex;\n",
              "      flex-wrap:wrap;\n",
              "      gap: 12px;\n",
              "    }\n",
              "\n",
              "    .colab-df-convert {\n",
              "      background-color: #E8F0FE;\n",
              "      border: none;\n",
              "      border-radius: 50%;\n",
              "      cursor: pointer;\n",
              "      display: none;\n",
              "      fill: #1967D2;\n",
              "      height: 32px;\n",
              "      padding: 0 0 0 0;\n",
              "      width: 32px;\n",
              "    }\n",
              "\n",
              "    .colab-df-convert:hover {\n",
              "      background-color: #E2EBFA;\n",
              "      box-shadow: 0px 1px 2px rgba(60, 64, 67, 0.3), 0px 1px 3px 1px rgba(60, 64, 67, 0.15);\n",
              "      fill: #174EA6;\n",
              "    }\n",
              "\n",
              "    [theme=dark] .colab-df-convert {\n",
              "      background-color: #3B4455;\n",
              "      fill: #D2E3FC;\n",
              "    }\n",
              "\n",
              "    [theme=dark] .colab-df-convert:hover {\n",
              "      background-color: #434B5C;\n",
              "      box-shadow: 0px 1px 3px 1px rgba(0, 0, 0, 0.15);\n",
              "      filter: drop-shadow(0px 1px 2px rgba(0, 0, 0, 0.3));\n",
              "      fill: #FFFFFF;\n",
              "    }\n",
              "  </style>\n",
              "\n",
              "      <script>\n",
              "        const buttonEl =\n",
              "          document.querySelector('#df-c5c5f74d-4601-4506-b187-2a8ec6dceb1a button.colab-df-convert');\n",
              "        buttonEl.style.display =\n",
              "          google.colab.kernel.accessAllowed ? 'block' : 'none';\n",
              "\n",
              "        async function convertToInteractive(key) {\n",
              "          const element = document.querySelector('#df-c5c5f74d-4601-4506-b187-2a8ec6dceb1a');\n",
              "          const dataTable =\n",
              "            await google.colab.kernel.invokeFunction('convertToInteractive',\n",
              "                                                     [key], {});\n",
              "          if (!dataTable) return;\n",
              "\n",
              "          const docLinkHtml = 'Like what you see? Visit the ' +\n",
              "            '<a target=\"_blank\" href=https://colab.research.google.com/notebooks/data_table.ipynb>data table notebook</a>'\n",
              "            + ' to learn more about interactive tables.';\n",
              "          element.innerHTML = '';\n",
              "          dataTable['output_type'] = 'display_data';\n",
              "          await google.colab.output.renderOutput(dataTable, element);\n",
              "          const docLink = document.createElement('div');\n",
              "          docLink.innerHTML = docLinkHtml;\n",
              "          element.appendChild(docLink);\n",
              "        }\n",
              "      </script>\n",
              "    </div>\n",
              "  </div>\n",
              "  "
            ]
          },
          "metadata": {},
          "execution_count": 37
        }
      ]
    },
    {
      "cell_type": "code",
      "source": [
        "from sklearn.metrics import classification_report, accuracy_score, confusion_matrix"
      ],
      "metadata": {
        "id": "poSJfJGcSIj6"
      },
      "execution_count": 38,
      "outputs": []
    },
    {
      "cell_type": "markdown",
      "source": [
        "# Logistic Regression"
      ],
      "metadata": {
        "id": "JOqSRW6D0qFy"
      }
    },
    {
      "cell_type": "code",
      "source": [
        "model = LogisticRegression()\n",
        "model.fit(X_train_sc, y_train)\n",
        "y_pred_train = model.predict(X_train_sc) "
      ],
      "metadata": {
        "id": "40zpOMeZSQoH"
      },
      "execution_count": 39,
      "outputs": []
    },
    {
      "cell_type": "markdown",
      "source": [
        "**Receiver Operating Characteristics (ROC)**"
      ],
      "metadata": {
        "id": "nfWPPF4QaEiX"
      }
    },
    {
      "cell_type": "code",
      "source": [
        "y_pred_train_lr_proba = model.predict_proba(X_train_sc)\n",
        "\n",
        "from sklearn.metrics import roc_curve\n",
        "\n",
        "fpr_t, tpr_t, tresholds_t = roc_curve(y_train, y_pred_train_lr_proba[:,1])\n",
        "\n",
        "plt.figure(figsize = (10, 6))\n",
        "plt.plot(fpr_t, tpr_t, label = 'Train', c = 'red')\n",
        "plt.legend()\n",
        "plt.title('ROC')\n",
        "plt.show()"
      ],
      "metadata": {
        "id": "z1QuawjE13wG",
        "colab": {
          "base_uri": "https://localhost:8080/",
          "height": 390
        },
        "outputId": "c443d230-2671-4f20-d3fa-f5ac26858392"
      },
      "execution_count": 40,
      "outputs": [
        {
          "output_type": "display_data",
          "data": {
            "text/plain": [
              "<Figure size 720x432 with 1 Axes>"
            ],
            "image/png": "[encoded data removed]"
          },
          "metadata": {
            "needs_background": "light"
          }
        }
      ]
    },
    {
      "cell_type": "code",
      "source": [
        "cm_train = confusion_matrix(y_train, y_pred_train)\n",
        "cm_train"
      ],
      "metadata": {
        "id": "HYNwOBc5hTZL",
        "colab": {
          "base_uri": "https://localhost:8080/"
        },
        "outputId": "399b86c4-970f-4b26-bef0-69a3c79bfd00"
      },
      "execution_count": 41,
      "outputs": [
        {
          "output_type": "execute_result",
          "data": {
            "text/plain": [
              "array([[881,  86],\n",
              "       [132, 729]])"
            ]
          },
          "metadata": {},
          "execution_count": 41
        }
      ]
    },
    {
      "cell_type": "code",
      "source": [
        "cm_train = confusion_matrix(y_train, y_pred_train)  \n",
        "sns.heatmap(cm_train, annot=True, fmt='d')\n",
        "plt.show()"
      ],
      "metadata": {
        "colab": {
          "base_uri": "https://localhost:8080/",
          "height": 265
        },
        "id": "k1PFTbachthD",
        "outputId": "cead29de-c984-4294-c647-d9938a7e77af"
      },
      "execution_count": 42,
      "outputs": [
        {
          "output_type": "display_data",
          "data": {
            "text/plain": [
              "<Figure size 432x288 with 2 Axes>"
            ],
            "image/png": "[encoded data removed]"
          },
          "metadata": {
            "needs_background": "light"
          }
        }
      ]
    },
    {
      "cell_type": "markdown",
      "source": [
        "**Logistic Regression - results**"
      ],
      "metadata": {
        "id": "ahj6tBcQ1WER"
      }
    },
    {
      "cell_type": "code",
      "source": [
        "print(classification_report(y_train,y_pred_train))"
      ],
      "metadata": {
        "colab": {
          "base_uri": "https://localhost:8080/"
        },
        "id": "snEkLzFhR9Tt",
        "outputId": "5a37d316-bf6a-4261-c2f5-373de663a9ef"
      },
      "execution_count": 43,
      "outputs": [
        {
          "output_type": "stream",
          "name": "stdout",
          "text": [
            "              precision    recall  f1-score   support\n",
            "\n",
            "           0       0.87      0.91      0.89       967\n",
            "           1       0.89      0.85      0.87       861\n",
            "\n",
            "    accuracy                           0.88      1828\n",
            "   macro avg       0.88      0.88      0.88      1828\n",
            "weighted avg       0.88      0.88      0.88      1828\n",
            "\n"
          ]
        }
      ]
    },
    {
      "cell_type": "code",
      "source": [
        "accuracy_score(y_train,y_pred_train)"
      ],
      "metadata": {
        "colab": {
          "base_uri": "https://localhost:8080/"
        },
        "id": "-o6H-OVtUyyL",
        "outputId": "1f31afef-ca79-482b-f815-814a150bfa47"
      },
      "execution_count": 44,
      "outputs": [
        {
          "output_type": "execute_result",
          "data": {
            "text/plain": [
              "0.8807439824945296"
            ]
          },
          "metadata": {},
          "execution_count": 44
        }
      ]
    },
    {
      "cell_type": "markdown",
      "source": [
        "# Logistic Regression with L2 regularization"
      ],
      "metadata": {
        "id": "DxYO3vuQ1drk"
      }
    },
    {
      "cell_type": "code",
      "source": [
        "rlr = LogisticRegression(solver = 'liblinear', penalty ='l2', C=0.5)\n",
        "rlr.fit(X_train_sc, y_train)  \n",
        "y_pred_train_rlr = rlr.predict(X_train_sc)"
      ],
      "metadata": {
        "id": "oUqLjvACzhlP"
      },
      "execution_count": 45,
      "outputs": []
    },
    {
      "cell_type": "code",
      "source": [
        "confusion_matrix(y_train, y_pred_train_rlr)"
      ],
      "metadata": {
        "colab": {
          "base_uri": "https://localhost:8080/"
        },
        "id": "HcamZdFJWc8H",
        "outputId": "34d83ae0-caff-48bf-9fea-ee679e3542ce"
      },
      "execution_count": 46,
      "outputs": [
        {
          "output_type": "execute_result",
          "data": {
            "text/plain": [
              "array([[879,  88],\n",
              "       [132, 729]])"
            ]
          },
          "metadata": {},
          "execution_count": 46
        }
      ]
    },
    {
      "cell_type": "markdown",
      "source": [
        "**Logistic Regression with L2 regularization - results**"
      ],
      "metadata": {
        "id": "HCNROrHZ1uDm"
      }
    },
    {
      "cell_type": "code",
      "source": [
        "print(classification_report(y_train,y_pred_train_rlr))"
      ],
      "metadata": {
        "colab": {
          "base_uri": "https://localhost:8080/"
        },
        "id": "_IHOkKnTVo43",
        "outputId": "0d09a39b-215d-4528-f933-830a63ee4c3c"
      },
      "execution_count": 47,
      "outputs": [
        {
          "output_type": "stream",
          "name": "stdout",
          "text": [
            "              precision    recall  f1-score   support\n",
            "\n",
            "           0       0.87      0.91      0.89       967\n",
            "           1       0.89      0.85      0.87       861\n",
            "\n",
            "    accuracy                           0.88      1828\n",
            "   macro avg       0.88      0.88      0.88      1828\n",
            "weighted avg       0.88      0.88      0.88      1828\n",
            "\n"
          ]
        }
      ]
    },
    {
      "cell_type": "code",
      "source": [
        "accuracy_score(y_train,y_pred_train_rlr)"
      ],
      "metadata": {
        "colab": {
          "base_uri": "https://localhost:8080/"
        },
        "id": "-1zslql0WCjj",
        "outputId": "5a2cb35a-0e57-4543-9111-f51a9d7db371"
      },
      "execution_count": 48,
      "outputs": [
        {
          "output_type": "execute_result",
          "data": {
            "text/plain": [
              "0.8796498905908097"
            ]
          },
          "metadata": {},
          "execution_count": 48
        }
      ]
    },
    {
      "cell_type": "markdown",
      "source": [
        "# Grid Search for Logistic Regression with L2 regularyzation"
      ],
      "metadata": {
        "id": "5hXtDX9f1zyj"
      }
    },
    {
      "cell_type": "code",
      "source": [
        "from sklearn.model_selection import GridSearchCV \n",
        "parameters = {'C':[0.01, 0.1, 1, 10, 100]}\n",
        "searcher = GridSearchCV(rlr, parameters)\n",
        "searcher.fit(X_train_sc, y_train)\n",
        "# Report the best parameters and the corresponding score\n",
        "print(\"Best CV params\", searcher.best_params_)\n",
        "print(\"Best CV accuracy\", searcher.best_score_)"
      ],
      "metadata": {
        "colab": {
          "base_uri": "https://localhost:8080/"
        },
        "id": "ZCACHV-S0aag",
        "outputId": "0195fefa-bd47-4156-cc31-4384c619f497"
      },
      "execution_count": 49,
      "outputs": [
        {
          "output_type": "stream",
          "name": "stdout",
          "text": [
            "Best CV params {'C': 100}\n",
            "Best CV accuracy 0.8845662100456622\n"
          ]
        }
      ]
    },
    {
      "cell_type": "markdown",
      "source": [
        "# KNeighborsClassifier (KNN)"
      ],
      "metadata": {
        "id": "3sKYz4Yr1-4p"
      }
    },
    {
      "cell_type": "code",
      "source": [
        "from sklearn.neighbors import KNeighborsClassifier\n",
        "\n",
        "knn = KNeighborsClassifier(n_neighbors=100, metric='manhattan')\n",
        "knn.fit(X_train_sc, y_train)\n",
        "y_pred_train_knn = knn.predict(X_train_sc)"
      ],
      "metadata": {
        "id": "qhnboQVCvLhN"
      },
      "execution_count": 50,
      "outputs": []
    },
    {
      "cell_type": "markdown",
      "source": [
        "**KNeighborsClassifier (KNN) - results**"
      ],
      "metadata": {
        "id": "q1rNhcfb2Jn7"
      }
    },
    {
      "cell_type": "code",
      "source": [
        "print(classification_report(y_train,y_pred_train_knn))"
      ],
      "metadata": {
        "colab": {
          "base_uri": "https://localhost:8080/"
        },
        "id": "09i0zr53vsyX",
        "outputId": "47c49943-acc6-458d-d892-36c71a027a44"
      },
      "execution_count": 51,
      "outputs": [
        {
          "output_type": "stream",
          "name": "stdout",
          "text": [
            "              precision    recall  f1-score   support\n",
            "\n",
            "           0       0.85      0.93      0.89       967\n",
            "           1       0.91      0.82      0.86       861\n",
            "\n",
            "    accuracy                           0.88      1828\n",
            "   macro avg       0.88      0.88      0.88      1828\n",
            "weighted avg       0.88      0.88      0.88      1828\n",
            "\n"
          ]
        }
      ]
    },
    {
      "cell_type": "code",
      "source": [
        "accuracy_score(y_train,y_pred_train_knn)"
      ],
      "metadata": {
        "colab": {
          "base_uri": "https://localhost:8080/"
        },
        "id": "l3KkFR8vXgUd",
        "outputId": "a6d566b0-98e0-4845-a162-8a32ce3481a1"
      },
      "execution_count": 52,
      "outputs": [
        {
          "output_type": "execute_result",
          "data": {
            "text/plain": [
              "0.8791028446389497"
            ]
          },
          "metadata": {},
          "execution_count": 52
        }
      ]
    },
    {
      "cell_type": "code",
      "source": [
        "confusion_matrix(y_train, y_pred_train_knn)"
      ],
      "metadata": {
        "colab": {
          "base_uri": "https://localhost:8080/"
        },
        "id": "oBC4DNTLg93S",
        "outputId": "1b81d778-b7e8-48d6-a005-1ee2aa63b74d"
      },
      "execution_count": 53,
      "outputs": [
        {
          "output_type": "execute_result",
          "data": {
            "text/plain": [
              "array([[900,  67],\n",
              "       [154, 707]])"
            ]
          },
          "metadata": {},
          "execution_count": 53
        }
      ]
    },
    {
      "cell_type": "markdown",
      "source": [
        "# Support Vector Machines (SVM)"
      ],
      "metadata": {
        "id": "-T2EgsSr2aGA"
      }
    },
    {
      "cell_type": "code",
      "source": [
        "from sklearn.model_selection import GridSearchCV\n",
        "from sklearn.svm import SVC\n",
        "\n",
        "svm = SVC(C = 0.1, kernel=\"linear\")\n",
        "svm.fit(X_train_sc,y_train)\n",
        "y_pred_train_svm = svm.predict(X_train_sc)"
      ],
      "metadata": {
        "id": "D-8sHRtYxJbV"
      },
      "execution_count": 54,
      "outputs": []
    },
    {
      "cell_type": "markdown",
      "source": [
        "**SVM - results**"
      ],
      "metadata": {
        "id": "T7RagEe5R53J"
      }
    },
    {
      "cell_type": "code",
      "source": [
        "print(classification_report(y_train,y_pred_train_svm))"
      ],
      "metadata": {
        "colab": {
          "base_uri": "https://localhost:8080/"
        },
        "id": "k1kOV03zYGbV",
        "outputId": "6a9a2857-9c1c-46f3-bc86-760c80d62aae"
      },
      "execution_count": 55,
      "outputs": [
        {
          "output_type": "stream",
          "name": "stdout",
          "text": [
            "              precision    recall  f1-score   support\n",
            "\n",
            "           0       0.86      0.91      0.88       967\n",
            "           1       0.89      0.83      0.86       861\n",
            "\n",
            "    accuracy                           0.87      1828\n",
            "   macro avg       0.88      0.87      0.87      1828\n",
            "weighted avg       0.87      0.87      0.87      1828\n",
            "\n"
          ]
        }
      ]
    },
    {
      "cell_type": "code",
      "source": [
        "accuracy_score(y_train,y_pred_train_svm)"
      ],
      "metadata": {
        "colab": {
          "base_uri": "https://localhost:8080/"
        },
        "id": "TrmB1gLpYTyF",
        "outputId": "2077ec31-76e0-46ee-f05c-c865c769b4c3"
      },
      "execution_count": 56,
      "outputs": [
        {
          "output_type": "execute_result",
          "data": {
            "text/plain": [
              "0.8730853391684902"
            ]
          },
          "metadata": {},
          "execution_count": 56
        }
      ]
    },
    {
      "cell_type": "code",
      "source": [
        "confusion_matrix(y_train, y_pred_train_svm)"
      ],
      "metadata": {
        "colab": {
          "base_uri": "https://localhost:8080/"
        },
        "id": "kUKvzKadhHnh",
        "outputId": "b69fb434-ef02-4bd4-ea33-7f62270c60fa"
      },
      "execution_count": 57,
      "outputs": [
        {
          "output_type": "execute_result",
          "data": {
            "text/plain": [
              "array([[883,  84],\n",
              "       [148, 713]])"
            ]
          },
          "metadata": {},
          "execution_count": 57
        }
      ]
    },
    {
      "cell_type": "markdown",
      "source": [
        "# Grid Search for SVM results"
      ],
      "metadata": {
        "id": "wHqwf32v237J"
      }
    },
    {
      "cell_type": "code",
      "source": [
        "svm = SVC(kernel=\"linear\")\n",
        "svm.fit(X_train_sc,y_train)\n",
        "\n",
        "parameters = {'C':[0.01, 0.1, 1, 10, 100]}\n",
        "searcher = GridSearchCV(svm, parameters)\n",
        "searcher.fit(X_train_sc, y_train)\n",
        "# Report the best parameters and the corresponding score\n",
        "print(\"Best CV params\", searcher.best_params_)\n",
        "print(\"Best CV accuracy\", searcher.best_score_)"
      ],
      "metadata": {
        "colab": {
          "base_uri": "https://localhost:8080/"
        },
        "id": "P6GEelmbxbCb",
        "outputId": "8de6c2b3-9894-44e8-b42f-9db17b9fc43a"
      },
      "execution_count": 58,
      "outputs": [
        {
          "output_type": "stream",
          "name": "stdout",
          "text": [
            "Best CV params {'C': 100}\n",
            "Best CV accuracy 0.8851156523691893\n"
          ]
        }
      ]
    },
    {
      "cell_type": "markdown",
      "source": [
        "# Naive Bayes"
      ],
      "metadata": {
        "id": "KuIoPrqRggYz"
      }
    },
    {
      "cell_type": "code",
      "source": [
        "from sklearn.naive_bayes import GaussianNB\n",
        "nb=GaussianNB()\n",
        "nb.fit(X_train_sc,y_train)\n",
        "y_pred_train_nb=nb.predict(X_train_sc)"
      ],
      "metadata": {
        "id": "BbO4V075gliv"
      },
      "execution_count": 59,
      "outputs": []
    },
    {
      "cell_type": "markdown",
      "source": [
        "**Naive Bayes - results**"
      ],
      "metadata": {
        "id": "QLT0x3OEh5oj"
      }
    },
    {
      "cell_type": "code",
      "source": [
        "print(classification_report(y_train,y_pred_train_nb))"
      ],
      "metadata": {
        "colab": {
          "base_uri": "https://localhost:8080/"
        },
        "id": "G11WjafwgrdB",
        "outputId": "d855e804-b6f6-4f60-95d0-866afe3e1340"
      },
      "execution_count": 60,
      "outputs": [
        {
          "output_type": "stream",
          "name": "stdout",
          "text": [
            "              precision    recall  f1-score   support\n",
            "\n",
            "           0       0.87      0.89      0.88       967\n",
            "           1       0.88      0.85      0.86       861\n",
            "\n",
            "    accuracy                           0.87      1828\n",
            "   macro avg       0.87      0.87      0.87      1828\n",
            "weighted avg       0.87      0.87      0.87      1828\n",
            "\n"
          ]
        }
      ]
    },
    {
      "cell_type": "code",
      "source": [
        "accuracy_score(y_train,y_pred_train_nb)"
      ],
      "metadata": {
        "colab": {
          "base_uri": "https://localhost:8080/"
        },
        "id": "WS_Ayz3sguOL",
        "outputId": "586771dd-68d9-458d-b8bc-45f45efc5ab9"
      },
      "execution_count": 61,
      "outputs": [
        {
          "output_type": "execute_result",
          "data": {
            "text/plain": [
              "0.8714442013129103"
            ]
          },
          "metadata": {},
          "execution_count": 61
        }
      ]
    },
    {
      "cell_type": "code",
      "source": [
        "confusion_matrix(y_train, y_pred_train_nb)"
      ],
      "metadata": {
        "colab": {
          "base_uri": "https://localhost:8080/"
        },
        "id": "JQxjOfv-gxbs",
        "outputId": "7ae19742-6ffd-4fb3-9b73-f932880d1d62"
      },
      "execution_count": 62,
      "outputs": [
        {
          "output_type": "execute_result",
          "data": {
            "text/plain": [
              "array([[863, 104],\n",
              "       [131, 730]])"
            ]
          },
          "metadata": {},
          "execution_count": 62
        }
      ]
    },
    {
      "cell_type": "markdown",
      "source": [
        "#DecisionTreeClassifier\n",
        "\n",
        "# Bagging Classifier - results"
      ],
      "metadata": {
        "id": "R5Qnuq4iUjke"
      }
    },
    {
      "cell_type": "code",
      "source": [
        "from sklearn.ensemble import BaggingClassifier\n",
        "from sklearn.tree import DecisionTreeClassifier\n",
        "\n",
        "bg=BaggingClassifier(base_estimator=DecisionTreeClassifier())\n",
        "bg.fit(X_train_sc,y_train)\n",
        "y_pred_train_bg=bg.predict(X_train_sc)\n",
        "print(classification_report(y_train,y_pred_train_bg))"
      ],
      "metadata": {
        "colab": {
          "base_uri": "https://localhost:8080/"
        },
        "id": "c-YYHwxn5U6S",
        "outputId": "c3fd49f5-4e23-45cd-fed5-825012127b33"
      },
      "execution_count": 63,
      "outputs": [
        {
          "output_type": "stream",
          "name": "stdout",
          "text": [
            "              precision    recall  f1-score   support\n",
            "\n",
            "           0       0.98      1.00      0.99       967\n",
            "           1       1.00      0.98      0.99       861\n",
            "\n",
            "    accuracy                           0.99      1828\n",
            "   macro avg       0.99      0.99      0.99      1828\n",
            "weighted avg       0.99      0.99      0.99      1828\n",
            "\n"
          ]
        }
      ]
    },
    {
      "cell_type": "code",
      "source": [
        "accuracy_score(y_train,y_pred_train_bg)"
      ],
      "metadata": {
        "colab": {
          "base_uri": "https://localhost:8080/"
        },
        "id": "1aXdUeSadC81",
        "outputId": "79f534ac-220a-4163-c401-9b7de2cbf876"
      },
      "execution_count": 64,
      "outputs": [
        {
          "output_type": "execute_result",
          "data": {
            "text/plain": [
              "0.9890590809628009"
            ]
          },
          "metadata": {},
          "execution_count": 64
        }
      ]
    },
    {
      "cell_type": "code",
      "source": [
        "confusion_matrix(y_train, y_pred_train_bg)"
      ],
      "metadata": {
        "colab": {
          "base_uri": "https://localhost:8080/"
        },
        "id": "QmNBXhEEkAc9",
        "outputId": "cbcbb079-1dfa-44ed-a434-c5234ca47d4d"
      },
      "execution_count": 65,
      "outputs": [
        {
          "output_type": "execute_result",
          "data": {
            "text/plain": [
              "array([[965,   2],\n",
              "       [ 18, 843]])"
            ]
          },
          "metadata": {},
          "execution_count": 65
        }
      ]
    },
    {
      "cell_type": "markdown",
      "source": [
        "#Random Forest Classifier - results"
      ],
      "metadata": {
        "id": "reZ2w-j4ir2f"
      }
    },
    {
      "cell_type": "code",
      "source": [
        "from sklearn.ensemble import RandomForestClassifier\n",
        "\n",
        "rf = RandomForestClassifier(max_depth = 4)\n",
        "rf.fit(X_train_sc, y_train)\n",
        "y_pred_train_rf=rf.predict(X_train_sc)\n",
        "print(classification_report(y_train,y_pred_train_rf))"
      ],
      "metadata": {
        "colab": {
          "base_uri": "https://localhost:8080/"
        },
        "id": "MyxlgXbLi6dR",
        "outputId": "1c0db767-04ab-4c93-8c6c-9988249ef6ba"
      },
      "execution_count": 66,
      "outputs": [
        {
          "output_type": "stream",
          "name": "stdout",
          "text": [
            "              precision    recall  f1-score   support\n",
            "\n",
            "           0       0.88      0.93      0.91       967\n",
            "           1       0.92      0.86      0.89       861\n",
            "\n",
            "    accuracy                           0.90      1828\n",
            "   macro avg       0.90      0.90      0.90      1828\n",
            "weighted avg       0.90      0.90      0.90      1828\n",
            "\n"
          ]
        }
      ]
    },
    {
      "cell_type": "code",
      "source": [
        "accuracy_score(y_train,y_pred_train_rf)"
      ],
      "metadata": {
        "colab": {
          "base_uri": "https://localhost:8080/"
        },
        "id": "YH5NBORudKv3",
        "outputId": "90199493-728b-4d06-f8b1-5a9f9d2bd34f"
      },
      "execution_count": 67,
      "outputs": [
        {
          "output_type": "execute_result",
          "data": {
            "text/plain": [
              "0.8982494529540481"
            ]
          },
          "metadata": {},
          "execution_count": 67
        }
      ]
    },
    {
      "cell_type": "code",
      "source": [
        "confusion_matrix(y_train, y_pred_train_rf)"
      ],
      "metadata": {
        "colab": {
          "base_uri": "https://localhost:8080/"
        },
        "id": "_mP--WX-kGdJ",
        "outputId": "653c8d34-2719-49c5-f6d9-bbbbaedaaff7"
      },
      "execution_count": 68,
      "outputs": [
        {
          "output_type": "execute_result",
          "data": {
            "text/plain": [
              "array([[901,  66],\n",
              "       [120, 741]])"
            ]
          },
          "metadata": {},
          "execution_count": 68
        }
      ]
    },
    {
      "cell_type": "markdown",
      "source": [
        "# MODEL TEST"
      ],
      "metadata": {
        "id": "s2f6yG8h3gqb"
      }
    },
    {
      "cell_type": "code",
      "source": [
        "X_test.shape"
      ],
      "metadata": {
        "id": "b4gcVROy3l6w",
        "colab": {
          "base_uri": "https://localhost:8080/"
        },
        "outputId": "1ba6b9f8-75b9-4d85-ea05-7eff1c7d8310"
      },
      "execution_count": 69,
      "outputs": [
        {
          "output_type": "execute_result",
          "data": {
            "text/plain": [
              "(457, 12)"
            ]
          },
          "metadata": {},
          "execution_count": 69
        }
      ]
    },
    {
      "cell_type": "code",
      "source": [
        "y_test.shape"
      ],
      "metadata": {
        "id": "svThxWEt3nf7",
        "colab": {
          "base_uri": "https://localhost:8080/"
        },
        "outputId": "4a21158d-6193-4c9e-9965-bd99d8cc8d71"
      },
      "execution_count": 70,
      "outputs": [
        {
          "output_type": "execute_result",
          "data": {
            "text/plain": [
              "(457,)"
            ]
          },
          "metadata": {},
          "execution_count": 70
        }
      ]
    },
    {
      "cell_type": "code",
      "source": [
        "df_sc_test = sc.transform(X_test)\n",
        "X_test_sc = pd.DataFrame(df_sc_test, columns=['Area', 'Perimeter', 'Major_Axis_Length', 'Minor_Axis_Length',\n",
        "       'Convex_Area', 'Equiv_Diameter', 'Eccentricity', 'Solidity', 'Extent',\n",
        "       'Roundness', 'Aspect_Ration', 'Compactness'])"
      ],
      "metadata": {
        "id": "CFrHZ27t33wb"
      },
      "execution_count": 71,
      "outputs": []
    },
    {
      "cell_type": "markdown",
      "source": [
        "# Logistic Regression - results"
      ],
      "metadata": {
        "id": "Z2IsgHvqZ2k3"
      }
    },
    {
      "cell_type": "code",
      "source": [
        "y_pred_lr = model.predict(X_test_sc)\n",
        "print(classification_report(y_test,y_pred_lr))"
      ],
      "metadata": {
        "colab": {
          "base_uri": "https://localhost:8080/"
        },
        "id": "scb_dKrc6_kA",
        "outputId": "b319c54a-c74d-4f05-9395-34940a23535d"
      },
      "execution_count": 72,
      "outputs": [
        {
          "output_type": "stream",
          "name": "stdout",
          "text": [
            "              precision    recall  f1-score   support\n",
            "\n",
            "           0       0.88      0.91      0.89       242\n",
            "           1       0.90      0.86      0.88       215\n",
            "\n",
            "    accuracy                           0.89       457\n",
            "   macro avg       0.89      0.88      0.89       457\n",
            "weighted avg       0.89      0.89      0.89       457\n",
            "\n"
          ]
        }
      ]
    },
    {
      "cell_type": "code",
      "source": [
        "accuracy_score(y_test,y_pred_lr)"
      ],
      "metadata": {
        "colab": {
          "base_uri": "https://localhost:8080/"
        },
        "id": "b_YOIY8OdQiL",
        "outputId": "c626deef-c47e-4fca-a0eb-880e498ff6a0"
      },
      "execution_count": 73,
      "outputs": [
        {
          "output_type": "execute_result",
          "data": {
            "text/plain": [
              "0.8862144420131292"
            ]
          },
          "metadata": {},
          "execution_count": 73
        }
      ]
    },
    {
      "cell_type": "code",
      "source": [
        "confusion_matrix(y_test, y_pred_lr)"
      ],
      "metadata": {
        "colab": {
          "base_uri": "https://localhost:8080/"
        },
        "id": "EQ5hL9P1igph",
        "outputId": "42ce6b6b-eec8-4246-f196-37ffeb14dfc3"
      },
      "execution_count": 74,
      "outputs": [
        {
          "output_type": "execute_result",
          "data": {
            "text/plain": [
              "array([[221,  21],\n",
              "       [ 31, 184]])"
            ]
          },
          "metadata": {},
          "execution_count": 74
        }
      ]
    },
    {
      "cell_type": "markdown",
      "source": [
        "**Receiver Operating Characteristics (ROC)**"
      ],
      "metadata": {
        "id": "f9ecrpzHdZGT"
      }
    },
    {
      "cell_type": "code",
      "source": [
        "y_pred_train_lr_proba = model.predict_proba(X_train_sc)\n",
        "y_pred_lr_proba = model.predict_proba(X_test_sc)\n",
        "\n",
        "from sklearn.metrics import roc_curve\n",
        "\n",
        "fpr_t, tpr_t, tresholds_t = roc_curve(y_train, y_pred_train_lr_proba[:,1])\n",
        "fpr, tpr, tresholds = roc_curve(y_test, y_pred_lr_proba[:,1])\n",
        "\n",
        "\n",
        "plt.figure(figsize = (10, 6))\n",
        "plt.plot(fpr, tpr, label ='Test', c = 'blue')\n",
        "plt.plot(fpr_t, tpr_t, label = 'Train', c = 'red')\n",
        "plt.legend()\n",
        "plt.title('ROC')\n",
        "plt.show()"
      ],
      "metadata": {
        "colab": {
          "base_uri": "https://localhost:8080/",
          "height": 390
        },
        "id": "pxqtYwf0cu8D",
        "outputId": "d4204137-720d-4452-e1a4-6844ba78de8d"
      },
      "execution_count": 75,
      "outputs": [
        {
          "output_type": "display_data",
          "data": {
            "text/plain": [
              "<Figure size 720x432 with 1 Axes>"
            ],
            "image/png": "[encoded data removed]"
          },
          "metadata": {
            "needs_background": "light"
          }
        }
      ]
    },
    {
      "cell_type": "markdown",
      "source": [
        "# Logistic Regression with L2 regularization - results"
      ],
      "metadata": {
        "id": "Conoy4y_anQD"
      }
    },
    {
      "cell_type": "code",
      "source": [
        "y_pred_rlr = rlr.predict(X_test_sc)\n",
        "print(classification_report(y_test,y_pred_rlr))"
      ],
      "metadata": {
        "colab": {
          "base_uri": "https://localhost:8080/"
        },
        "id": "cOzJmJhScxmJ",
        "outputId": "cb695da3-5207-4af6-a14a-839fcf1c4591"
      },
      "execution_count": 76,
      "outputs": [
        {
          "output_type": "stream",
          "name": "stdout",
          "text": [
            "              precision    recall  f1-score   support\n",
            "\n",
            "           0       0.88      0.90      0.89       242\n",
            "           1       0.89      0.86      0.87       215\n",
            "\n",
            "    accuracy                           0.88       457\n",
            "   macro avg       0.88      0.88      0.88       457\n",
            "weighted avg       0.88      0.88      0.88       457\n",
            "\n"
          ]
        }
      ]
    },
    {
      "cell_type": "code",
      "source": [
        "accuracy_score(y_test,y_pred_rlr)"
      ],
      "metadata": {
        "colab": {
          "base_uri": "https://localhost:8080/"
        },
        "id": "UKc_w4l7dy8p",
        "outputId": "bca9f604-b319-43e3-d926-2324df3d2886"
      },
      "execution_count": 77,
      "outputs": [
        {
          "output_type": "execute_result",
          "data": {
            "text/plain": [
              "0.8840262582056893"
            ]
          },
          "metadata": {},
          "execution_count": 77
        }
      ]
    },
    {
      "cell_type": "code",
      "source": [
        "confusion_matrix(y_test, y_pred_rlr)"
      ],
      "metadata": {
        "colab": {
          "base_uri": "https://localhost:8080/"
        },
        "id": "GevYkZxsivPb",
        "outputId": "92fdcda8-f819-449c-bdb0-62d97455b098"
      },
      "execution_count": 78,
      "outputs": [
        {
          "output_type": "execute_result",
          "data": {
            "text/plain": [
              "array([[219,  23],\n",
              "       [ 30, 185]])"
            ]
          },
          "metadata": {},
          "execution_count": 78
        }
      ]
    },
    {
      "cell_type": "markdown",
      "source": [
        "# KNeighborsClassifier (KNN) - results"
      ],
      "metadata": {
        "id": "qBUl0UHNbC8X"
      }
    },
    {
      "cell_type": "code",
      "source": [
        "y_pred_knn = knn.predict(X_test_sc)\n",
        "print(classification_report(y_test,y_pred_knn))"
      ],
      "metadata": {
        "colab": {
          "base_uri": "https://localhost:8080/"
        },
        "id": "mfZLQQDqf-6N",
        "outputId": "aa798b8e-cc8b-417e-bda5-714d20fba747"
      },
      "execution_count": 79,
      "outputs": [
        {
          "output_type": "stream",
          "name": "stdout",
          "text": [
            "              precision    recall  f1-score   support\n",
            "\n",
            "           0       0.84      0.91      0.87       242\n",
            "           1       0.89      0.81      0.85       215\n",
            "\n",
            "    accuracy                           0.86       457\n",
            "   macro avg       0.87      0.86      0.86       457\n",
            "weighted avg       0.86      0.86      0.86       457\n",
            "\n"
          ]
        }
      ]
    },
    {
      "cell_type": "code",
      "source": [
        "accuracy_score(y_test,y_pred_knn)"
      ],
      "metadata": {
        "colab": {
          "base_uri": "https://localhost:8080/"
        },
        "id": "t_Y42w2GeB4f",
        "outputId": "06583a43-9f3d-4d9c-9673-31b3cd587219"
      },
      "execution_count": 80,
      "outputs": [
        {
          "output_type": "execute_result",
          "data": {
            "text/plain": [
              "0.862144420131291"
            ]
          },
          "metadata": {},
          "execution_count": 80
        }
      ]
    },
    {
      "cell_type": "code",
      "source": [
        "confusion_matrix(y_test, y_pred_knn)"
      ],
      "metadata": {
        "colab": {
          "base_uri": "https://localhost:8080/"
        },
        "id": "Ego8eOcKizzg",
        "outputId": "fa532701-53d4-4bf3-82a1-9f3808245d85"
      },
      "execution_count": 81,
      "outputs": [
        {
          "output_type": "execute_result",
          "data": {
            "text/plain": [
              "array([[220,  22],\n",
              "       [ 41, 174]])"
            ]
          },
          "metadata": {},
          "execution_count": 81
        }
      ]
    },
    {
      "cell_type": "markdown",
      "source": [
        "# SVM - results"
      ],
      "metadata": {
        "id": "Qv8nK7X-bZbC"
      }
    },
    {
      "cell_type": "code",
      "source": [
        "y_pred_svm = svm.predict(X_test_sc)\n",
        "print(classification_report(y_test,y_pred_svm))"
      ],
      "metadata": {
        "colab": {
          "base_uri": "https://localhost:8080/"
        },
        "id": "XnbcEs7_hdVT",
        "outputId": "04e17521-ce08-42b3-a266-ecb5db73f90f"
      },
      "execution_count": 82,
      "outputs": [
        {
          "output_type": "stream",
          "name": "stdout",
          "text": [
            "              precision    recall  f1-score   support\n",
            "\n",
            "           0       0.87      0.92      0.89       242\n",
            "           1       0.91      0.84      0.87       215\n",
            "\n",
            "    accuracy                           0.88       457\n",
            "   macro avg       0.89      0.88      0.88       457\n",
            "weighted avg       0.89      0.88      0.88       457\n",
            "\n"
          ]
        }
      ]
    },
    {
      "cell_type": "code",
      "source": [
        "accuracy_score(y_test,y_pred_svm)"
      ],
      "metadata": {
        "colab": {
          "base_uri": "https://localhost:8080/"
        },
        "id": "0wkjfTociFEf",
        "outputId": "289cd1ee-b1e2-449b-d1a3-0cf8c418bf02"
      },
      "execution_count": 83,
      "outputs": [
        {
          "output_type": "execute_result",
          "data": {
            "text/plain": [
              "0.8840262582056893"
            ]
          },
          "metadata": {},
          "execution_count": 83
        }
      ]
    },
    {
      "cell_type": "code",
      "source": [
        "confusion_matrix(y_test, y_pred_svm)"
      ],
      "metadata": {
        "colab": {
          "base_uri": "https://localhost:8080/"
        },
        "id": "h90O_vDyi39t",
        "outputId": "8a6bcdf0-e7d9-4420-b12c-eb670c131019"
      },
      "execution_count": 84,
      "outputs": [
        {
          "output_type": "execute_result",
          "data": {
            "text/plain": [
              "array([[223,  19],\n",
              "       [ 34, 181]])"
            ]
          },
          "metadata": {},
          "execution_count": 84
        }
      ]
    },
    {
      "cell_type": "markdown",
      "source": [
        "# Naive Bayes - results\n",
        "\n"
      ],
      "metadata": {
        "id": "RHgC1ltti7pB"
      }
    },
    {
      "cell_type": "code",
      "source": [
        "y_pred_nb=nb.predict(X_test_sc)\n",
        "print(classification_report(y_test,y_pred_nb))"
      ],
      "metadata": {
        "colab": {
          "base_uri": "https://localhost:8080/"
        },
        "id": "LMRfRv3AjEaG",
        "outputId": "22b61ede-755b-4119-afd8-adea20247c21"
      },
      "execution_count": 85,
      "outputs": [
        {
          "output_type": "stream",
          "name": "stdout",
          "text": [
            "              precision    recall  f1-score   support\n",
            "\n",
            "           0       0.85      0.86      0.85       242\n",
            "           1       0.84      0.82      0.83       215\n",
            "\n",
            "    accuracy                           0.84       457\n",
            "   macro avg       0.84      0.84      0.84       457\n",
            "weighted avg       0.84      0.84      0.84       457\n",
            "\n"
          ]
        }
      ]
    },
    {
      "cell_type": "code",
      "source": [
        "accuracy_score(y_test,y_pred_nb)"
      ],
      "metadata": {
        "colab": {
          "base_uri": "https://localhost:8080/"
        },
        "id": "MeunO9yaiRZm",
        "outputId": "bbf6a15d-10a1-411f-e177-b6440852e81e"
      },
      "execution_count": 86,
      "outputs": [
        {
          "output_type": "execute_result",
          "data": {
            "text/plain": [
              "0.8446389496717724"
            ]
          },
          "metadata": {},
          "execution_count": 86
        }
      ]
    },
    {
      "cell_type": "code",
      "source": [
        "confusion_matrix(y_test, y_pred_nb)"
      ],
      "metadata": {
        "colab": {
          "base_uri": "https://localhost:8080/"
        },
        "id": "aUkqg28Ljh3q",
        "outputId": "ee80708e-ee03-496d-9b32-31c7003b9790"
      },
      "execution_count": 87,
      "outputs": [
        {
          "output_type": "execute_result",
          "data": {
            "text/plain": [
              "array([[209,  33],\n",
              "       [ 38, 177]])"
            ]
          },
          "metadata": {},
          "execution_count": 87
        }
      ]
    },
    {
      "cell_type": "markdown",
      "source": [
        "#DecisionTreeClassifier - results"
      ],
      "metadata": {
        "id": "EcA8-kJQbmHf"
      }
    },
    {
      "cell_type": "code",
      "source": [
        "y_pred_bg = bg.predict(X_test_sc)\n",
        "print(classification_report(y_test,y_pred_bg))"
      ],
      "metadata": {
        "colab": {
          "base_uri": "https://localhost:8080/"
        },
        "id": "HbFvaU1H8Nl4",
        "outputId": "b4258a9e-4de1-47f0-d0c7-edfed60c3212"
      },
      "execution_count": 88,
      "outputs": [
        {
          "output_type": "stream",
          "name": "stdout",
          "text": [
            "              precision    recall  f1-score   support\n",
            "\n",
            "           0       0.85      0.91      0.88       242\n",
            "           1       0.89      0.82      0.85       215\n",
            "\n",
            "    accuracy                           0.87       457\n",
            "   macro avg       0.87      0.86      0.87       457\n",
            "weighted avg       0.87      0.87      0.87       457\n",
            "\n"
          ]
        }
      ]
    },
    {
      "cell_type": "code",
      "source": [
        "accuracy_score(y_test,y_pred_bg)"
      ],
      "metadata": {
        "colab": {
          "base_uri": "https://localhost:8080/"
        },
        "id": "g2B93XszicVs",
        "outputId": "58144403-f80a-4437-8f76-def2b240c310"
      },
      "execution_count": 89,
      "outputs": [
        {
          "output_type": "execute_result",
          "data": {
            "text/plain": [
              "0.8665207877461707"
            ]
          },
          "metadata": {},
          "execution_count": 89
        }
      ]
    },
    {
      "cell_type": "code",
      "source": [
        "confusion_matrix(y_test, y_pred_bg)"
      ],
      "metadata": {
        "colab": {
          "base_uri": "https://localhost:8080/"
        },
        "id": "pySz326sjwrq",
        "outputId": "d8f6bebc-f90c-4820-f3c7-c2e13a180328"
      },
      "execution_count": 90,
      "outputs": [
        {
          "output_type": "execute_result",
          "data": {
            "text/plain": [
              "array([[220,  22],\n",
              "       [ 39, 176]])"
            ]
          },
          "metadata": {},
          "execution_count": 90
        }
      ]
    },
    {
      "cell_type": "markdown",
      "source": [
        "#Random Forest Classifier - results"
      ],
      "metadata": {
        "id": "2_lJ0CrFb7K_"
      }
    },
    {
      "cell_type": "code",
      "source": [
        "y_pred_rf=rf.predict(X_test_sc)\n",
        "print(classification_report(y_test,y_pred_rf))"
      ],
      "metadata": {
        "colab": {
          "base_uri": "https://localhost:8080/"
        },
        "id": "BHu7XyAWib5c",
        "outputId": "afebb306-8b7a-46b7-f2cf-928d61a00178"
      },
      "execution_count": 91,
      "outputs": [
        {
          "output_type": "stream",
          "name": "stdout",
          "text": [
            "              precision    recall  f1-score   support\n",
            "\n",
            "           0       0.86      0.92      0.89       242\n",
            "           1       0.90      0.83      0.86       215\n",
            "\n",
            "    accuracy                           0.88       457\n",
            "   macro avg       0.88      0.87      0.88       457\n",
            "weighted avg       0.88      0.88      0.88       457\n",
            "\n"
          ]
        }
      ]
    },
    {
      "cell_type": "code",
      "source": [
        "accuracy_score(y_test,y_pred_rf)"
      ],
      "metadata": {
        "colab": {
          "base_uri": "https://localhost:8080/"
        },
        "id": "L8JygCK6ioTW",
        "outputId": "6cdf9c9d-8745-4718-e5fe-1ac6656bf965"
      },
      "execution_count": 92,
      "outputs": [
        {
          "output_type": "execute_result",
          "data": {
            "text/plain": [
              "0.8774617067833698"
            ]
          },
          "metadata": {},
          "execution_count": 92
        }
      ]
    },
    {
      "cell_type": "code",
      "source": [
        "confusion_matrix(y_test, y_pred_rf)"
      ],
      "metadata": {
        "colab": {
          "base_uri": "https://localhost:8080/"
        },
        "id": "56ij2pmSj3q4",
        "outputId": "e2780827-848e-4306-bdfb-e40c88704779"
      },
      "execution_count": 93,
      "outputs": [
        {
          "output_type": "execute_result",
          "data": {
            "text/plain": [
              "array([[222,  20],\n",
              "       [ 36, 179]])"
            ]
          },
          "metadata": {},
          "execution_count": 93
        }
      ]
    },
    {
      "cell_type": "markdown",
      "source": [
        "#Collected training and testing results  of the model "
      ],
      "metadata": {
        "id": "1UNhDERmkdSO"
      }
    },
    {
      "cell_type": "code",
      "source": [
        "print(\"Accurasy_score on the: \\n\\n\"\n",
        "     f\"Training Model - Logistic Regression: {accuracy_score(y_train,y_pred_train):.2f}\\n\"\n",
        "     f\"Testing Model  - Logistic Regression: {accuracy_score(y_test,y_pred_lr):.2f}\\n\\n\"\n",
        "     f\"Training Model - Logistic Regression with l2: {accuracy_score(y_train,y_pred_train_rlr):.2f}\\n\"\n",
        "     f\"Testing Model  - Logistic Regression with l2: {accuracy_score(y_test,y_pred_rlr):.2f}\\n\\n\"\n",
        "     f\"Training Model - KNN: {accuracy_score(y_train,y_pred_train_knn):.2f}\\n\"\n",
        "     f\"Testing Model  - KNN: {accuracy_score(y_test,y_pred_knn):.2f}\\n\\n\"\n",
        "     f\"Training Model - SVM: {accuracy_score(y_train,y_pred_train_svm):.2f}\\n\"\n",
        "     f\"Testing Model  - SVM: {accuracy_score(y_test,y_pred_svm):.2f}\\n\\n\" \n",
        "     f\"Training Model - Naive Bayes: {accuracy_score(y_train,y_pred_train_nb):.2f}\\n\"\n",
        "     f\"Testing Model  - Naive Bayes: {accuracy_score(y_test,y_pred_nb):.2f}\\n\\n\"\n",
        "     f\"Training Model - Bagging Classifier: {accuracy_score(y_train,y_pred_train_bg):.2f} \\n\"\n",
        "     f\"Testing Model  - Bagging Classifier: {accuracy_score(y_test,y_pred_bg):.2f}\\n\\n\"\n",
        "     f\"Training Model - RandomForestClassifier: {accuracy_score(y_train,y_pred_train_rf):.2f}\\n\"\n",
        "     f\"Testing Model  - RandomForestClassifier: {accuracy_score(y_test,y_pred_rf):.2f}\")"
      ],
      "metadata": {
        "colab": {
          "base_uri": "https://localhost:8080/"
        },
        "id": "iILOk6p-s4ls",
        "outputId": "802fa780-a69e-44cf-e4dc-cf31f8a63959"
      },
      "execution_count": 94,
      "outputs": [
        {
          "output_type": "stream",
          "name": "stdout",
          "text": [
            "Accurasy_score on the: \n",
            "\n",
            "Training Model - Logistic Regression: 0.88\n",
            "Testing Model  - Logistic Regression: 0.89\n",
            "\n",
            "Training Model - Logistic Regression with l2: 0.88\n",
            "Testing Model  - Logistic Regression with l2: 0.88\n",
            "\n",
            "Training Model - KNN: 0.88\n",
            "Testing Model  - KNN: 0.86\n",
            "\n",
            "Training Model - SVM: 0.87\n",
            "Testing Model  - SVM: 0.88\n",
            "\n",
            "Training Model - Naive Bayes: 0.87\n",
            "Testing Model  - Naive Bayes: 0.84\n",
            "\n",
            "Training Model - Bagging Classifier: 0.99 \n",
            "Testing Model  - Bagging Classifier: 0.87\n",
            "\n",
            "Training Model - RandomForestClassifier: 0.90\n",
            "Testing Model  - RandomForestClassifier: 0.88\n"
          ]
        }
      ]
    },
    {
      "cell_type": "markdown",
      "source": [
        "#Conclusion\n",
        "\n",
        "\n",
        "\n",
        "*   SVM is the best above model.\n",
        "*   I also achieved good accuracies with Logistic Regression, \n",
        "    KNN and Random Forest Algorithms.\n",
        "\n"
      ],
      "metadata": {
        "id": "kDZNGK_9oYbn"
      }
    }
  ]
}